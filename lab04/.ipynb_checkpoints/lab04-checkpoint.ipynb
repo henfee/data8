{
 "cells": [
  {
   "cell_type": "markdown",
   "metadata": {
    "deletable": true,
    "editable": true
   },
   "source": [
    "# Functions and Visualizations"
   ]
  },
  {
   "cell_type": "markdown",
   "metadata": {
    "deletable": true,
    "editable": true
   },
   "source": [
    "In the past week, you've learned a lot about using tables to work with datasets.  With your tools so far, you can:\n",
    "\n",
    "1. Load a dataset from the web;\n",
    "2. Work with (extract, add, drop, relabel) columns from the dataset;\n",
    "3. Filter and sort it according to certain criteria;\n",
    "4. Perform arithmetic on columns of numbers;\n",
    "5. Group rows by columns of categories, counting the number of rows in each category;\n",
    "6. Make a bar chart of the categories.\n",
    "\n",
    "These tools are fairly powerful, but they're not quite enough for all the analysis and data we'll eventually be doing in this course.  Today we'll learn a tool that dramatically expands this toolbox: the table method `apply`.  We'll also see how to make histograms, which are like bar charts for numerical data."
   ]
  },
  {
   "cell_type": "code",
   "execution_count": 1,
   "metadata": {
    "collapsed": false,
    "deletable": true,
    "editable": true
   },
   "outputs": [],
   "source": [
    "# Run this cell to set up the notebook, but please don't change it.\n",
    "\n",
    "# These lines import the Numpy and Datascience modules.\n",
    "import numpy as np\n",
    "from datascience import *\n",
    "\n",
    "# These lines do some fancy plotting magic.\n",
    "import matplotlib\n",
    "%matplotlib inline\n",
    "import matplotlib.pyplot as plt\n",
    "plt.style.use('fivethirtyeight')\n",
    "import warnings\n",
    "warnings.simplefilter('ignore', FutureWarning)"
   ]
  },
  {
   "cell_type": "markdown",
   "metadata": {
    "deletable": true,
    "editable": true
   },
   "source": [
    "## 1. Functions and CEO Incomes\n",
    "##### In Which We Write Down a Recipe for Cake\n",
    "\n",
    "Let's start with a real data analysis task.  We'll look at the 2015 compensation of CEOs at the 100 largest companies in California.  The data were compiled for a Los Angeles Times analysis [here](http://spreadsheets.latimes.com/california-ceo-compensation/), and ultimately came from [filings](https://www.sec.gov/answers/proxyhtf.htm) mandated by the SEC from all publicly-traded companies.  Two companies have two CEOs, so there are 102 CEOs in the dataset.\n",
    "\n",
    "We've copied the data in raw form from the LA Times page into a file called `raw_compensation.csv`.  (The page notes that all dollar amounts are in millions of dollars.)"
   ]
  },
  {
   "cell_type": "code",
   "execution_count": 24,
   "metadata": {
    "collapsed": false,
    "deletable": true,
    "editable": true
   },
   "outputs": [
    {
     "data": {
      "text/html": [
       "<table border=\"1\" class=\"dataframe\">\n",
       "    <thead>\n",
       "        <tr>\n",
       "            <th>Rank</th> <th>Name</th> <th>Company (Headquarters)</th> <th>Total Pay</th> <th>% Change</th> <th>Cash Pay</th> <th>Equity Pay</th> <th>Other Pay</th> <th>Ratio of CEO pay to average industry worker pay</th>\n",
       "        </tr>\n",
       "    </thead>\n",
       "    <tbody>\n",
       "        <tr>\n",
       "            <td>1   </td> <td>Mark V. Hurd*     </td> <td>Oracle (Redwood City)         </td> <td>$53.25   </td> <td>(No previous year)</td> <td>$0.95   </td> <td>$52.27    </td> <td>$0.02    </td> <td>362                                            </td>\n",
       "        </tr>\n",
       "    </tbody>\n",
       "        <tr>\n",
       "            <td>2   </td> <td>Safra A. Catz*    </td> <td>Oracle (Redwood City)         </td> <td>$53.24   </td> <td>(No previous year)</td> <td>$0.95   </td> <td>$52.27    </td> <td>$0.02    </td> <td>362                                            </td>\n",
       "        </tr>\n",
       "    </tbody>\n",
       "        <tr>\n",
       "            <td>3   </td> <td>Robert A. Iger    </td> <td>Walt Disney (Burbank)         </td> <td>$44.91   </td> <td>-3%               </td> <td>$24.89  </td> <td>$17.28    </td> <td>$2.74    </td> <td>477                                            </td>\n",
       "        </tr>\n",
       "    </tbody>\n",
       "        <tr>\n",
       "            <td>4   </td> <td>Marissa A. Mayer  </td> <td>Yahoo! (Sunnyvale)            </td> <td>$35.98   </td> <td>-15%              </td> <td>$1.00   </td> <td>$34.43    </td> <td>$0.55    </td> <td>342                                            </td>\n",
       "        </tr>\n",
       "    </tbody>\n",
       "        <tr>\n",
       "            <td>5   </td> <td>Marc Benioff      </td> <td>salesforce.com (San Francisco)</td> <td>$33.36   </td> <td>-16%              </td> <td>$4.65   </td> <td>$27.26    </td> <td>$1.45    </td> <td>338                                            </td>\n",
       "        </tr>\n",
       "    </tbody>\n",
       "        <tr>\n",
       "            <td>6   </td> <td>John H. Hammergren</td> <td>McKesson (San Francisco)      </td> <td>$24.84   </td> <td>-4%               </td> <td>$12.10  </td> <td>$12.37    </td> <td>$0.37    </td> <td>222                                            </td>\n",
       "        </tr>\n",
       "    </tbody>\n",
       "        <tr>\n",
       "            <td>7   </td> <td>John S. Watson    </td> <td>Chevron (San Ramon)           </td> <td>$22.04   </td> <td>-15%              </td> <td>$4.31   </td> <td>$14.68    </td> <td>$3.05    </td> <td>183                                            </td>\n",
       "        </tr>\n",
       "    </tbody>\n",
       "        <tr>\n",
       "            <td>8   </td> <td>Jeffrey Weiner    </td> <td>LinkedIn (Mountain View)      </td> <td>$19.86   </td> <td>27%               </td> <td>$2.47   </td> <td>$17.26    </td> <td>$0.13    </td> <td>182                                            </td>\n",
       "        </tr>\n",
       "    </tbody>\n",
       "        <tr>\n",
       "            <td>9   </td> <td>John T. Chambers**</td> <td>Cisco Systems (San Jose)      </td> <td>$19.62   </td> <td>19%               </td> <td>$5.10   </td> <td>$14.51    </td> <td>$0.01    </td> <td>170                                            </td>\n",
       "        </tr>\n",
       "    </tbody>\n",
       "        <tr>\n",
       "            <td>10  </td> <td>John G. Stumpf    </td> <td>Wells Fargo  (San Francisco)  </td> <td>$19.32   </td> <td>-10%              </td> <td>$6.80   </td> <td>$12.50    </td> <td>$0.02    </td> <td>256                                            </td>\n",
       "        </tr>\n",
       "    </tbody>\n",
       "</table>\n",
       "<p>... (92 rows omitted)</p"
      ],
      "text/plain": [
       "Rank | Name               | Company (Headquarters)         | Total Pay | % Change           | Cash Pay | Equity Pay | Other Pay | Ratio of CEO pay to average industry worker pay\n",
       "1    | Mark V. Hurd*      | Oracle (Redwood City)          | $53.25    | (No previous year) | $0.95    | $52.27     | $0.02     | 362\n",
       "2    | Safra A. Catz*     | Oracle (Redwood City)          | $53.24    | (No previous year) | $0.95    | $52.27     | $0.02     | 362\n",
       "3    | Robert A. Iger     | Walt Disney (Burbank)          | $44.91    | -3%                | $24.89   | $17.28     | $2.74     | 477\n",
       "4    | Marissa A. Mayer   | Yahoo! (Sunnyvale)             | $35.98    | -15%               | $1.00    | $34.43     | $0.55     | 342\n",
       "5    | Marc Benioff       | salesforce.com (San Francisco) | $33.36    | -16%               | $4.65    | $27.26     | $1.45     | 338\n",
       "6    | John H. Hammergren | McKesson (San Francisco)       | $24.84    | -4%                | $12.10   | $12.37     | $0.37     | 222\n",
       "7    | John S. Watson     | Chevron (San Ramon)            | $22.04    | -15%               | $4.31    | $14.68     | $3.05     | 183\n",
       "8    | Jeffrey Weiner     | LinkedIn (Mountain View)       | $19.86    | 27%                | $2.47    | $17.26     | $0.13     | 182\n",
       "9    | John T. Chambers** | Cisco Systems (San Jose)       | $19.62    | 19%                | $5.10    | $14.51     | $0.01     | 170\n",
       "10   | John G. Stumpf     | Wells Fargo  (San Francisco)   | $19.32    | -10%               | $6.80    | $12.50     | $0.02     | 256\n",
       "... (92 rows omitted)"
      ]
     },
     "execution_count": 24,
     "metadata": {},
     "output_type": "execute_result"
    }
   ],
   "source": [
    "raw_compensation = Table.read_table('raw_compensation.csv')\n",
    "raw_compensation"
   ]
  },
  {
   "cell_type": "markdown",
   "metadata": {
    "deletable": true,
    "editable": true
   },
   "source": [
    "**Question 1.** When we first loaded this dataset, we tried to compute the average of the CEOs' pay like this:\n",
    "\n",
    "    np.average(raw_compensation.column(\"Total Pay\"))\n",
    "\n",
    "Explain why that didn't work.  *Hint:* Try looking at some of the values in the \"Total Pay\" column."
   ]
  },
  {
   "cell_type": "markdown",
   "metadata": {
    "deletable": true,
    "editable": true
   },
   "source": [
    "The entries are strings, prefixed with the $ sign, which by definition cannot be averaged out."
   ]
  },
  {
   "cell_type": "code",
   "execution_count": null,
   "metadata": {
    "collapsed": false,
    "deletable": true,
    "editable": true
   },
   "outputs": [],
   "source": [
    "..."
   ]
  },
  {
   "cell_type": "markdown",
   "metadata": {
    "deletable": true,
    "editable": true
   },
   "source": [
    "**Question 2.** Extract the first value in the \"Total Pay\" column.  It's Mark Hurd's pay in 2015, in *millions* of dollars.  Call it `mark_hurd_pay_string`."
   ]
  },
  {
   "cell_type": "code",
   "execution_count": 5,
   "metadata": {
    "collapsed": false,
    "deletable": true,
    "editable": true
   },
   "outputs": [
    {
     "data": {
      "text/plain": [
       "'$53.25 '"
      ]
     },
     "execution_count": 5,
     "metadata": {},
     "output_type": "execute_result"
    }
   ],
   "source": [
    "mark_hurd_pay_string = raw_compensation.column(\"Total Pay\")[0]\n",
    "mark_hurd_pay_string"
   ]
  },
  {
   "cell_type": "code",
   "execution_count": null,
   "metadata": {
    "collapsed": false,
    "deletable": true,
    "editable": true
   },
   "outputs": [],
   "source": [
    "_ = tests.grade('q1_2')"
   ]
  },
  {
   "cell_type": "markdown",
   "metadata": {
    "deletable": true,
    "editable": true
   },
   "source": [
    "**Question 3.** Convert `mark_hurd_pay_string` to a number of *dollars*.  The string method `strip` will be useful for removing the dollar sign; it removes a specified character from the start or end of a string.  For example, the value of `\"100%\".strip(\"%\")` is the string `\"100\"`.  You'll also need the function `float`, which converts a string that looks like a number to an actual number.  Last, remember that the answer should be in dollars, not millions of dollars."
   ]
  },
  {
   "cell_type": "code",
   "execution_count": 8,
   "metadata": {
    "collapsed": false,
    "deletable": true,
    "editable": true
   },
   "outputs": [
    {
     "data": {
      "text/plain": [
       "53.25"
      ]
     },
     "execution_count": 8,
     "metadata": {},
     "output_type": "execute_result"
    }
   ],
   "source": [
    "mark_hurd_pay = float(mark_hurd_pay_string.strip(\"$\"))\n",
    "mark_hurd_pay"
   ]
  },
  {
   "cell_type": "code",
   "execution_count": null,
   "metadata": {
    "collapsed": false,
    "deletable": true,
    "editable": true
   },
   "outputs": [],
   "source": [
    "_ = tests.grade('q1_3')"
   ]
  },
  {
   "cell_type": "markdown",
   "metadata": {
    "deletable": true,
    "editable": true
   },
   "source": [
    "To compute the average pay, we need to do this for every CEO.  But that looks like it would involve copying this code 102 times.\n",
    "\n",
    "This is where functions come in.  First, we'll define our own function that packages together the code we wrote to convert a pay string to a pay number.  This has its own benefits.  Later in this lab we'll see a bigger payoff: we can call that function on every pay string in the dataset at once.\n",
    "\n",
    "**Question 4.** Below we've written code that defines a function that converts pay strings to pay numbers, just like your code above.  But it has a small error, which you can correct without knowing what all the other stuff in the cell means.  Correct the problem."
   ]
  },
  {
   "cell_type": "code",
   "execution_count": 9,
   "metadata": {
    "collapsed": true,
    "deletable": true,
    "editable": true,
    "for_assignment_type": "student"
   },
   "outputs": [],
   "source": [
    "def convert_pay_string_to_number(pay_string):\n",
    "    \"\"\"Converts a pay string like '$100 ' (in millions) to a number of dollars.\"\"\"\n",
    "    return float(pay_string.strip(\"$\"))"
   ]
  },
  {
   "cell_type": "code",
   "execution_count": null,
   "metadata": {
    "collapsed": false,
    "deletable": true,
    "editable": true
   },
   "outputs": [],
   "source": [
    "_ = tests.grade('q1_4')"
   ]
  },
  {
   "cell_type": "markdown",
   "metadata": {
    "deletable": true,
    "editable": true
   },
   "source": [
    "Running that cell doesn't convert any particular pay string.\n",
    "\n",
    "Rather, think of it as defining a *recipe* for converting a pay string to a number.  Writing down a recipe for cake doesn't give you a cake.  You have to gather the ingredients and get a chef to execute the instructions in the recipe to get a cake.  Similarly, no pay string is converted to a number until we *call* our function on a particular pay string (which tells Python, our lightning-fast chef, to execute it).\n",
    "\n",
    "We can call our function just like we call the built-in functions we've seen.  (Almost all of those functions are defined in this way, in fact!)  It takes one argument, a string, and it returns a number."
   ]
  },
  {
   "cell_type": "code",
   "execution_count": null,
   "metadata": {
    "collapsed": false,
    "deletable": true,
    "editable": true
   },
   "outputs": [],
   "source": [
    "convert_pay_string_to_number(mark_hurd_pay_string)"
   ]
  },
  {
   "cell_type": "code",
   "execution_count": null,
   "metadata": {
    "collapsed": false,
    "deletable": true,
    "editable": true
   },
   "outputs": [],
   "source": [
    "# We can also compute Safra Catz's pay in the same way:\n",
    "convert_pay_string_to_number(raw_compensation.where(\"Name\", are.equal_to(\"Safra A. Catz*\")).column(\"Total Pay\").item(0))"
   ]
  },
  {
   "cell_type": "markdown",
   "metadata": {
    "deletable": true,
    "editable": true
   },
   "source": [
    "What have we gained?  Well, without the function, we'd have to copy that `10**6 * float(pay_string.strip(\"$\"))` stuff each time we wanted to convert a pay string.  Now we just call a function whose name says exactly what it's doing.\n",
    "\n",
    "We'd still have to call the function 102 times to convert all the salaries, which we'll fix next.\n",
    "\n",
    "But for now, let's write some more functions."
   ]
  },
  {
   "cell_type": "markdown",
   "metadata": {
    "deletable": true,
    "editable": true
   },
   "source": [
    "## 2. Defining functions\n",
    "##### In Which We Write a Lot of Recipes\n",
    "\n",
    "Let's write a very simple function that converts a proportion to a percentage by multiplying it by 100.  For example, the value of `to_percentage(.5)` should be the number 50.  (No percent sign.)\n",
    "\n",
    "A function definition has a few parts.\n",
    "\n",
    "##### `def`\n",
    "It always starts with `def` (short for **def**ine):\n",
    "\n",
    "    def\n",
    "\n",
    "##### Name\n",
    "Next comes the name of the function.  Let's call our function `to_percentage`.\n",
    "    \n",
    "    def to_percentage\n",
    "\n",
    "##### Signature\n",
    "Next comes something called the *signature* of the function.  This tells Python how many arguments your function should have, and what names you'll use to refer to those arguments in the function's code.  `to_percentage` should take one argument, and we'll call that argument `proportion` since it should be a proportion.\n",
    "\n",
    "    def to_percentage(proportion)\n",
    "\n",
    "We put a colon after the signature to tell Python it's over.\n",
    "\n",
    "    def to_percentage(proportion):\n",
    "\n",
    "##### Documentation\n",
    "Functions can do complicated things, so you should write an explanation of what your function does.  For small functions, this is less important, but it's a good habit to learn from the start.  Conventionally, Python functions are documented by writing a triple-quoted string:\n",
    "\n",
    "    def to_percentage(proportion):\n",
    "        \"\"\"Converts a proportion to a percentage.\"\"\"\n",
    "    \n",
    "    \n",
    "##### Body\n",
    "Now we start writing code that runs when the function is called.  This is called the *body* of the function.  We can write anything we could write anywhere else.  First let's give a name to the number we multiply a proportion by to get a percentage.\n",
    "\n",
    "    def to_percentage(proportion):\n",
    "        \"\"\"Converts a proportion to a percentage.\"\"\"\n",
    "        factor = 100\n",
    "\n",
    "##### `return`\n",
    "The special instruction `return` in a function's body tells Python to make the value of the function call equal to whatever comes right after `return`.  We want the value of `to_percentage(.5)` to be the proportion .5 times the factor 100, so we write:\n",
    "\n",
    "    def to_percentage(proportion):\n",
    "        \"\"\"Converts a proportion to a percentage.\"\"\"\n",
    "        factor = 100\n",
    "        return proportion * factor"
   ]
  },
  {
   "cell_type": "markdown",
   "metadata": {
    "deletable": true,
    "editable": true
   },
   "source": [
    "**Question 1.** Define `to_percentage` in the cell below.  Call your function to convert the proportion .2 to a percentage.  Name that percentage `twenty_percent`."
   ]
  },
  {
   "cell_type": "code",
   "execution_count": 10,
   "metadata": {
    "collapsed": false,
    "deletable": true,
    "editable": true,
    "for_assignment_type": "student"
   },
   "outputs": [
    {
     "data": {
      "text/plain": [
       "20.0"
      ]
     },
     "execution_count": 10,
     "metadata": {},
     "output_type": "execute_result"
    }
   ],
   "source": [
    "def to_percentage(proportion):\n",
    "    factor = 100\n",
    "    return proportion * factor\n",
    "\n",
    "twenty_percent = to_percentage(0.2)\n",
    "twenty_percent"
   ]
  },
  {
   "cell_type": "code",
   "execution_count": null,
   "metadata": {
    "collapsed": false,
    "deletable": true,
    "editable": true
   },
   "outputs": [],
   "source": [
    "_ = tests.grade('q2_1')"
   ]
  },
  {
   "cell_type": "markdown",
   "metadata": {
    "deletable": true,
    "editable": true
   },
   "source": [
    "Like the built-in functions, you can use named values as arguments to your function.\n",
    "\n",
    "**Question 2.** Use `to_percentage` again to convert the proportion named `a_proportion` (defined below) to a percentage called `a_percentage`.\n",
    "\n",
    "*Note:* You don't need to define `to_percentage` again!  Just like other named things, functions stick around after you define them."
   ]
  },
  {
   "cell_type": "code",
   "execution_count": 11,
   "metadata": {
    "collapsed": false,
    "deletable": true,
    "editable": true
   },
   "outputs": [
    {
     "data": {
      "text/plain": [
       "70.71067811865476"
      ]
     },
     "execution_count": 11,
     "metadata": {},
     "output_type": "execute_result"
    }
   ],
   "source": [
    "a_proportion = 2**(.5) / 2\n",
    "a_percentage = to_percentage(a_proportion)\n",
    "a_percentage"
   ]
  },
  {
   "cell_type": "code",
   "execution_count": null,
   "metadata": {
    "collapsed": false,
    "deletable": true,
    "editable": true
   },
   "outputs": [],
   "source": [
    "_ = tests.grade('q2_2')"
   ]
  },
  {
   "cell_type": "markdown",
   "metadata": {
    "deletable": true,
    "editable": true
   },
   "source": [
    "Here's something important about functions: Each time a function is called, it creates its own \"space\" for names that's separate from the main space where you normally define names.  (Exception: all the names from the main space get copied into it.)  So even though you defined `factor = 100` inside `to_percentage` above and then called `to_percentage`, you can't refer to `factor` anywhere except inside the body of `to_percentage`:"
   ]
  },
  {
   "cell_type": "code",
   "execution_count": 12,
   "metadata": {
    "collapsed": false,
    "deletable": true,
    "editable": true
   },
   "outputs": [
    {
     "ename": "NameError",
     "evalue": "name 'factor' is not defined",
     "output_type": "error",
     "traceback": [
      "\u001b[0;31m---------------------------------------------------------------------------\u001b[0m",
      "\u001b[0;31mNameError\u001b[0m                                 Traceback (most recent call last)",
      "\u001b[0;32m<ipython-input-12-6c0c07e5c48e>\u001b[0m in \u001b[0;36m<module>\u001b[0;34m()\u001b[0m\n\u001b[1;32m      1\u001b[0m \u001b[0;31m# You should see an error when you run this.  (If you don't, you might\u001b[0m\u001b[0;34m\u001b[0m\u001b[0;34m\u001b[0m\u001b[0m\n\u001b[1;32m      2\u001b[0m \u001b[0;31m# have defined factor somewhere above.)\u001b[0m\u001b[0;34m\u001b[0m\u001b[0;34m\u001b[0m\u001b[0m\n\u001b[0;32m----> 3\u001b[0;31m \u001b[0mfactor\u001b[0m\u001b[0;34m\u001b[0m\u001b[0m\n\u001b[0m",
      "\u001b[0;31mNameError\u001b[0m: name 'factor' is not defined"
     ]
    }
   ],
   "source": [
    "# You should see an error when you run this.  (If you don't, you might\n",
    "# have defined factor somewhere above.)\n",
    "factor"
   ]
  },
  {
   "cell_type": "markdown",
   "metadata": {
    "deletable": true,
    "editable": true
   },
   "source": [
    "As we've seen with the built-in functions, functions can also take strings (or arrays, or tables) as arguments, and they can return those things, too.\n",
    "\n",
    "**Question 3.** Define a function called `disemvowel`.  It should take a single string as its argument.  (You can call that argument whatever you want.)  It should return a copy of that string, but with all the characters that are vowels removed.  (In English, the vowels are the characters \"a\", \"e\", \"i\", \"o\", and \"u\".)\n",
    "\n",
    "*Hint:* To remove all the \"a\"s from a string, you can use `that_string.replace(\"a\", \"\")`.  And you can call `replace` multiple times."
   ]
  },
  {
   "cell_type": "code",
   "execution_count": 14,
   "metadata": {
    "collapsed": false,
    "deletable": true,
    "editable": true
   },
   "outputs": [
    {
     "data": {
      "text/plain": [
       "'Cn y rd ths wtht vwls?'"
      ]
     },
     "execution_count": 14,
     "metadata": {},
     "output_type": "execute_result"
    }
   ],
   "source": [
    "def disemvowel(a_string):\n",
    "    for char in a_string:\n",
    "        if char in 'aeiou':\n",
    "            a_string = a_string.replace(char, \"\")\n",
    "            \n",
    "    return a_string\n",
    "\n",
    "# An example call to your function.  (It's often helpful to run\n",
    "# an example call from time to time while you're writing a function,\n",
    "# to see how it currently works.)\n",
    "disemvowel(\"Can you read this without vowels?\")"
   ]
  },
  {
   "cell_type": "code",
   "execution_count": null,
   "metadata": {
    "collapsed": false,
    "deletable": true,
    "editable": true
   },
   "outputs": [],
   "source": [
    "_ = tests.grade('q2_3')"
   ]
  },
  {
   "cell_type": "markdown",
   "metadata": {
    "deletable": true,
    "editable": true
   },
   "source": [
    "##### Calls on calls on calls\n",
    "Just as you write a series of lines to build up a complex computation, it's useful to define a series of small functions that build on each other.  Since you can write any code inside a function's body, you can call other functions you've written.\n",
    "\n",
    "This is like a recipe for cake telling you to follow another recipe to make the frosting, and another to make the sprinkles.  This makes the cake recipe shorter and clearer, and it avoids having a bunch of duplicated frosting recipes.  It's a foundation of productive programming.\n",
    "\n",
    "For example, suppose you want to count the number of characters *that aren't vowels* in a piece of text.  One way to do that is this to remove all the vowels and count the size of the remaining string.\n",
    "\n",
    "**Question 4.** Write a function called `num_non_vowels`.  It should take a string as its argument and return a number.  The number should be the number of characters in the argument string that aren't vowels.\n",
    "\n",
    "*Hint:* Recall that the function `len` takes a string as its argument and returns the number of characters in it."
   ]
  },
  {
   "cell_type": "code",
   "execution_count": 15,
   "metadata": {
    "collapsed": true,
    "deletable": true,
    "editable": true
   },
   "outputs": [],
   "source": [
    "def num_non_vowels(a_string):\n",
    "    \"\"\"The number of characters in a string, minus the vowels.\"\"\"\n",
    "    count = 0\n",
    "    for char in a_string:\n",
    "        if char in 'aeiou':\n",
    "            continue\n",
    "        else:\n",
    "            count += 1\n",
    "            \n",
    "    return count\n",
    "    "
   ]
  },
  {
   "cell_type": "code",
   "execution_count": null,
   "metadata": {
    "collapsed": false,
    "deletable": true,
    "editable": true
   },
   "outputs": [],
   "source": [
    "_ = tests.grade('q2_4')"
   ]
  },
  {
   "cell_type": "markdown",
   "metadata": {
    "deletable": true,
    "editable": true
   },
   "source": [
    "Functions can also encapsulate code that *does things* rather than just computing values.  For example, if you call `print` inside a function, and then call that function, something will get printed.\n",
    "\n",
    "The `movies_by_year` dataset in the textbook has information about movie sales in recent years.  Suppose you'd like to display the year with the 5th-highest total gross movie sales, printed in a human-readable way.  You might do this:"
   ]
  },
  {
   "cell_type": "code",
   "execution_count": 16,
   "metadata": {
    "collapsed": false,
    "deletable": true,
    "editable": true
   },
   "outputs": [
    {
     "name": "stdout",
     "output_type": "stream",
     "text": [
      "Year number 5 for total gross movie sales was: 2010\n"
     ]
    }
   ],
   "source": [
    "movies_by_year = Table.read_table(\"movies_by_year.csv\")\n",
    "rank = 5\n",
    "fifth_from_top_movie_year = movies_by_year.sort(\"Total Gross\", descending=True).column(\"Year\").item(rank-1)\n",
    "print(\"Year number\", rank, \"for total gross movie sales was:\", fifth_from_top_movie_year)"
   ]
  },
  {
   "cell_type": "markdown",
   "metadata": {
    "deletable": true,
    "editable": true
   },
   "source": [
    "After writing this, you realize you also wanted to print out the 2nd and 3rd-highest years.  Instead of copying your code, you decide to put it in a function.  Since the rank varies, you make that an argument to your function.\n",
    "\n",
    "**Question 5.** Write a function called `print_kth_top_movie_year`.  It should take a single argument, the rank of the year (like 2, 3, or 5 in the above examples).  It should print out a message like the one above.  It shouldn't have a `return` statement."
   ]
  },
  {
   "cell_type": "code",
   "execution_count": 17,
   "metadata": {
    "collapsed": false,
    "deletable": true,
    "editable": true,
    "for_assignment_type": "student"
   },
   "outputs": [
    {
     "name": "stdout",
     "output_type": "stream",
     "text": [
      "Year number 2 for total gross movie sales was: 2013\n",
      "Year number 3 for total gross movie sales was: 2012\n"
     ]
    }
   ],
   "source": [
    "def print_kth_top_movie_year(k):\n",
    "    # Our solution used 2 lines.\n",
    "    movie = movies_by_year.sort(\"Total Gross\", descending=True).column(\"Year\").item(k-1)\n",
    "    print(\"Year number\", k, \"for total gross movie sales was:\", movie)\n",
    "\n",
    "# Example calls to your function:\n",
    "print_kth_top_movie_year(2)\n",
    "print_kth_top_movie_year(3)"
   ]
  },
  {
   "cell_type": "code",
   "execution_count": null,
   "metadata": {
    "collapsed": false,
    "deletable": true,
    "editable": true
   },
   "outputs": [],
   "source": [
    "_ = tests.grade('q2_5')"
   ]
  },
  {
   "cell_type": "markdown",
   "metadata": {
    "deletable": true,
    "editable": true
   },
   "source": [
    "## 3. `apply`ing functions\n",
    "##### In Which Python Bakes 102 Cakes\n",
    "You'll get more practice writing functions, but let's move on.  \n",
    "\n",
    "Defining a function is a lot like giving a name to a value with `=`.  In fact, a function is a value just like the number 1 or the text \"the\"!\n",
    "\n",
    "For example, we can make a new name for the built-in function `max` if we want:"
   ]
  },
  {
   "cell_type": "code",
   "execution_count": null,
   "metadata": {
    "collapsed": false,
    "deletable": true,
    "editable": true
   },
   "outputs": [],
   "source": [
    "our_name_for_max = max\n",
    "our_name_for_max(2, 6)"
   ]
  },
  {
   "cell_type": "markdown",
   "metadata": {
    "deletable": true,
    "editable": true
   },
   "source": [
    "The old name for `max` is still around:"
   ]
  },
  {
   "cell_type": "code",
   "execution_count": null,
   "metadata": {
    "collapsed": false,
    "deletable": true,
    "editable": true
   },
   "outputs": [],
   "source": [
    "max(2, 6)"
   ]
  },
  {
   "cell_type": "markdown",
   "metadata": {
    "deletable": true,
    "editable": true
   },
   "source": [
    "Try just writing `max` or `our_name_for_max` (or the name of any other function) in a cell, and run that cell.  Python will print out a (very brief) description of the function."
   ]
  },
  {
   "cell_type": "code",
   "execution_count": 18,
   "metadata": {
    "collapsed": false,
    "deletable": true,
    "editable": true
   },
   "outputs": [
    {
     "data": {
      "text/plain": [
       "<function max>"
      ]
     },
     "execution_count": 18,
     "metadata": {},
     "output_type": "execute_result"
    }
   ],
   "source": [
    "max"
   ]
  },
  {
   "cell_type": "markdown",
   "metadata": {
    "deletable": true,
    "editable": true
   },
   "source": [
    "Why is this useful?  Since functions are just values, it's possible to pass them as arguments to other functions.  Here's a simple but not-so-practical example: we can make an array of functions."
   ]
  },
  {
   "cell_type": "code",
   "execution_count": null,
   "metadata": {
    "collapsed": false,
    "deletable": true,
    "editable": true
   },
   "outputs": [],
   "source": [
    "make_array(max, np.average, are.equal_to)"
   ]
  },
  {
   "cell_type": "markdown",
   "metadata": {
    "deletable": true,
    "editable": true
   },
   "source": [
    "**Question 1.** Make an array containing any 3 other functions you've seen.  Call it `some_functions`."
   ]
  },
  {
   "cell_type": "code",
   "execution_count": null,
   "metadata": {
    "collapsed": false,
    "deletable": true,
    "editable": true
   },
   "outputs": [],
   "source": [
    "some_functions = make_array(abs, np.mean, min)\n",
    "some_functions"
   ]
  },
  {
   "cell_type": "code",
   "execution_count": null,
   "metadata": {
    "collapsed": false,
    "deletable": true,
    "editable": true
   },
   "outputs": [],
   "source": [
    "_ = tests.grade('q3_1')"
   ]
  },
  {
   "cell_type": "markdown",
   "metadata": {
    "deletable": true,
    "editable": true
   },
   "source": [
    "Working with functions as values can lead to some funny-looking code.  For example, see if you can figure out why this works:"
   ]
  },
  {
   "cell_type": "code",
   "execution_count": null,
   "metadata": {
    "collapsed": false,
    "deletable": true,
    "editable": true
   },
   "outputs": [],
   "source": [
    "make_array(max, np.average, are.equal_to).item(0)(4, -2, 7)"
   ]
  },
  {
   "cell_type": "markdown",
   "metadata": {
    "deletable": true,
    "editable": true
   },
   "source": [
    "Here's a simpler example that's actually useful: the table method `apply`.\n",
    "\n",
    "`apply` calls a function many times, once on *each* element in a column of a table.  It produces an array of the results.  Here we use `apply` to convert every CEO's pay to a number, using the function you defined:"
   ]
  },
  {
   "cell_type": "code",
   "execution_count": 30,
   "metadata": {
    "collapsed": false,
    "deletable": true,
    "editable": true
   },
   "outputs": [],
   "source": [
    "pay = raw_compensation.apply(convert_pay_string_to_number, \"Total Pay\")\n"
   ]
  },
  {
   "cell_type": "markdown",
   "metadata": {
    "deletable": true,
    "editable": true
   },
   "source": [
    "Here's an illustration of what that did:\n",
    "\n",
    "<img src=\"apply.png\"/>\n",
    "\n",
    "Note that we didn't write something like `convert_pay_string_to_number()` or `convert_pay_string_to_number(\"Total Pay\")`.  The job of `apply` is to call the function we give it, so instead of calling `convert_pay_string_to_number` ourselves, we just write its name as an argument to `apply`.\n",
    "\n",
    "**Question 2.** Using `apply`, make a table that's a copy of `raw_compensation` with one more column called \"Total Pay (\\$)\".  It should be the result of applying `convert_pay_string_to_number` to the \"Total Pay\" column, as we did above.  Call the new table `compensation`."
   ]
  },
  {
   "cell_type": "code",
   "execution_count": 40,
   "metadata": {
    "collapsed": false,
    "deletable": true,
    "editable": true
   },
   "outputs": [
    {
     "data": {
      "text/html": [
       "<table border=\"1\" class=\"dataframe\">\n",
       "    <thead>\n",
       "        <tr>\n",
       "            <th>Rank</th> <th>Name</th> <th>Company (Headquarters)</th> <th>Total Pay</th> <th>% Change</th> <th>Cash Pay</th> <th>Equity Pay</th> <th>Other Pay</th> <th>Ratio of CEO pay to average industry worker pay</th> <th>Total Pay ($)</th>\n",
       "        </tr>\n",
       "    </thead>\n",
       "    <tbody>\n",
       "        <tr>\n",
       "            <td>1   </td> <td>Mark V. Hurd*          </td> <td>Oracle (Redwood City)                          </td> <td>$53.25   </td> <td>(No previous year)</td> <td>$0.95   </td> <td>$52.27    </td> <td>$0.02    </td> <td>362                                            </td> <td>53.25        </td>\n",
       "        </tr>\n",
       "    </tbody>\n",
       "        <tr>\n",
       "            <td>2   </td> <td>Safra A. Catz*         </td> <td>Oracle (Redwood City)                          </td> <td>$53.24   </td> <td>(No previous year)</td> <td>$0.95   </td> <td>$52.27    </td> <td>$0.02    </td> <td>362                                            </td> <td>53.24        </td>\n",
       "        </tr>\n",
       "    </tbody>\n",
       "        <tr>\n",
       "            <td>3   </td> <td>Robert A. Iger         </td> <td>Walt Disney (Burbank)                          </td> <td>$44.91   </td> <td>-3%               </td> <td>$24.89  </td> <td>$17.28    </td> <td>$2.74    </td> <td>477                                            </td> <td>44.91        </td>\n",
       "        </tr>\n",
       "    </tbody>\n",
       "        <tr>\n",
       "            <td>4   </td> <td>Marissa A. Mayer       </td> <td>Yahoo! (Sunnyvale)                             </td> <td>$35.98   </td> <td>-15%              </td> <td>$1.00   </td> <td>$34.43    </td> <td>$0.55    </td> <td>342                                            </td> <td>35.98        </td>\n",
       "        </tr>\n",
       "    </tbody>\n",
       "        <tr>\n",
       "            <td>5   </td> <td>Marc Benioff           </td> <td>salesforce.com (San Francisco)                 </td> <td>$33.36   </td> <td>-16%              </td> <td>$4.65   </td> <td>$27.26    </td> <td>$1.45    </td> <td>338                                            </td> <td>33.36        </td>\n",
       "        </tr>\n",
       "    </tbody>\n",
       "        <tr>\n",
       "            <td>6   </td> <td>John H. Hammergren     </td> <td>McKesson (San Francisco)                       </td> <td>$24.84   </td> <td>-4%               </td> <td>$12.10  </td> <td>$12.37    </td> <td>$0.37    </td> <td>222                                            </td> <td>24.84        </td>\n",
       "        </tr>\n",
       "    </tbody>\n",
       "        <tr>\n",
       "            <td>7   </td> <td>John S. Watson         </td> <td>Chevron (San Ramon)                            </td> <td>$22.04   </td> <td>-15%              </td> <td>$4.31   </td> <td>$14.68    </td> <td>$3.05    </td> <td>183                                            </td> <td>22.04        </td>\n",
       "        </tr>\n",
       "    </tbody>\n",
       "        <tr>\n",
       "            <td>8   </td> <td>Jeffrey Weiner         </td> <td>LinkedIn (Mountain View)                       </td> <td>$19.86   </td> <td>27%               </td> <td>$2.47   </td> <td>$17.26    </td> <td>$0.13    </td> <td>182                                            </td> <td>19.86        </td>\n",
       "        </tr>\n",
       "    </tbody>\n",
       "        <tr>\n",
       "            <td>9   </td> <td>John T. Chambers**     </td> <td>Cisco Systems (San Jose)                       </td> <td>$19.62   </td> <td>19%               </td> <td>$5.10   </td> <td>$14.51    </td> <td>$0.01    </td> <td>170                                            </td> <td>19.62        </td>\n",
       "        </tr>\n",
       "    </tbody>\n",
       "        <tr>\n",
       "            <td>10  </td> <td>John G. Stumpf         </td> <td>Wells Fargo  (San Francisco)                   </td> <td>$19.32   </td> <td>-10%              </td> <td>$6.80   </td> <td>$12.50    </td> <td>$0.02    </td> <td>256                                            </td> <td>19.32        </td>\n",
       "        </tr>\n",
       "    </tbody>\n",
       "        <tr>\n",
       "            <td>11  </td> <td>John C. Martin**       </td> <td>Gilead Sciences (Foster City)                  </td> <td>$18.76   </td> <td>-1%               </td> <td>$5.77   </td> <td>$12.98    </td> <td>$0.01    </td> <td>117                                            </td> <td>18.76        </td>\n",
       "        </tr>\n",
       "    </tbody>\n",
       "        <tr>\n",
       "            <td>12  </td> <td>Michael S. Burke       </td> <td>AECOM Technology (Los Angeles)                 </td> <td>$18.61   </td> <td>(No previous year)</td> <td>$4.12   </td> <td>$14.00    </td> <td>$0.49    </td> <td>199                                            </td> <td>18.61        </td>\n",
       "        </tr>\n",
       "    </tbody>\n",
       "        <tr>\n",
       "            <td>13  </td> <td>Shantanu Narayen       </td> <td>Adobe Systems (San Jose)                       </td> <td>$18.36   </td> <td>3%                </td> <td>$2.41   </td> <td>$15.85    </td> <td>$0.09    </td> <td>125                                            </td> <td>18.36        </td>\n",
       "        </tr>\n",
       "    </tbody>\n",
       "        <tr>\n",
       "            <td>14  </td> <td>Gary E. Dickerson      </td> <td>Applied Materials (Santa Clara)                </td> <td>$18.09   </td> <td>10%               </td> <td>$3.09   </td> <td>$10.82    </td> <td>$4.19    </td> <td>131                                            </td> <td>18.09        </td>\n",
       "        </tr>\n",
       "    </tbody>\n",
       "        <tr>\n",
       "            <td>15  </td> <td>Margaret C. Whitman**  </td> <td>Hewlett-Packard (Palo Alto)                    </td> <td>$17.10   </td> <td>-13%              </td> <td>$3.95   </td> <td>$12.85    </td> <td>$0.30    </td> <td>89                                             </td> <td>17.10        </td>\n",
       "        </tr>\n",
       "    </tbody>\n",
       "        <tr>\n",
       "            <td>16  </td> <td>Reed Hastings          </td> <td>Netflix (Los Gatos)                            </td> <td>$16.63   </td> <td>50%               </td> <td>$1.12   </td> <td>$15.50    </td> <td>$0.02    </td> <td>161                                            </td> <td>16.63        </td>\n",
       "        </tr>\n",
       "    </tbody>\n",
       "        <tr>\n",
       "            <td>17  </td> <td>Michael A. Brown**     </td> <td>Symantec (Mountain View)                       </td> <td>$16.33   </td> <td>(No previous year)</td> <td>$2.13   </td> <td>$14.18    </td> <td>$0.02    </td> <td>178                                            </td> <td>16.33        </td>\n",
       "        </tr>\n",
       "    </tbody>\n",
       "        <tr>\n",
       "            <td>18  </td> <td>Debra L. Reed          </td> <td>Sempra Energy (San Diego)                      </td> <td>$16.14   </td> <td>-4%               </td> <td>$4.52   </td> <td>$7.16     </td> <td>$4.46    </td> <td>152                                            </td> <td>16.14        </td>\n",
       "        </tr>\n",
       "    </tbody>\n",
       "        <tr>\n",
       "            <td>19  </td> <td>Robert A. Bradway      </td> <td>Amgen (Thousand Oaks)                          </td> <td>$16.10   </td> <td>15%               </td> <td>$5.35   </td> <td>$10.20    </td> <td>$0.55    </td> <td>152                                            </td> <td>16.10        </td>\n",
       "        </tr>\n",
       "    </tbody>\n",
       "        <tr>\n",
       "            <td>20  </td> <td>Brad D. Smith          </td> <td>Intuit (Mountain View)                         </td> <td>$16.02   </td> <td>-3%               </td> <td>$2.46   </td> <td>$13.55    </td> <td>$0.01    </td> <td>150                                            </td> <td>16.02        </td>\n",
       "        </tr>\n",
       "    </tbody>\n",
       "        <tr>\n",
       "            <td>21  </td> <td>Gregory E. Johnson     </td> <td>Franklin Resources (San Mateo)                 </td> <td>$15.10   </td> <td>-5%               </td> <td>$4.43   </td> <td>$10.60    </td> <td>$0.06    </td> <td>92                                             </td> <td>15.10        </td>\n",
       "        </tr>\n",
       "    </tbody>\n",
       "        <tr>\n",
       "            <td>22  </td> <td>Hamid R. Moghadam      </td> <td>Prologis (San Francisco)                       </td> <td>$14.98   </td> <td>-9%               </td> <td>$3.27   </td> <td>$11.62    </td> <td>$0.10    </td> <td>196                                            </td> <td>14.98        </td>\n",
       "        </tr>\n",
       "    </tbody>\n",
       "        <tr>\n",
       "            <td>23  </td> <td>Brian M. Krzanich      </td> <td>Intel (Santa Clara)                            </td> <td>$14.63   </td> <td>31%               </td> <td>$4.55   </td> <td>$9.80     </td> <td>$0.28    </td> <td>106                                            </td> <td>14.63        </td>\n",
       "        </tr>\n",
       "    </tbody>\n",
       "        <tr>\n",
       "            <td>24  </td> <td>Devin N. Wenig         </td> <td>eBay (San Jose)                                </td> <td>$14.51   </td> <td>(No previous year)</td> <td>$3.64   </td> <td>$10.86    </td> <td>$0.02    </td> <td>295                                            </td> <td>14.51        </td>\n",
       "        </tr>\n",
       "    </tbody>\n",
       "        <tr>\n",
       "            <td>25  </td> <td>Daniel H. Schulman     </td> <td>PayPal Holdings (San Jose)                     </td> <td>$14.44   </td> <td>(No previous year)</td> <td>$3.32   </td> <td>$10.36    </td> <td>$0.76    </td> <td>178                                            </td> <td>14.44        </td>\n",
       "        </tr>\n",
       "    </tbody>\n",
       "        <tr>\n",
       "            <td>26  </td> <td>Patrick P. Gelsinger   </td> <td>VMware (Palo Alto)                             </td> <td>$14.36   </td> <td>68%               </td> <td>$2.44   </td> <td>$11.90    </td> <td>$0.01    </td> <td>98                                             </td> <td>14.36        </td>\n",
       "        </tr>\n",
       "    </tbody>\n",
       "        <tr>\n",
       "            <td>27  </td> <td>Jay M. Gellert**       </td> <td>Health Net (Woodland Hills)                    </td> <td>$14.31   </td> <td>15%               </td> <td>$4.55   </td> <td>$7.24     </td> <td>$2.52    </td> <td>173                                            </td> <td>14.31        </td>\n",
       "        </tr>\n",
       "    </tbody>\n",
       "        <tr>\n",
       "            <td>28  </td> <td>Victor Herrero         </td> <td>Guess (Los Angeles)                            </td> <td>$14.09   </td> <td>(No previous year)</td> <td>$3.69   </td> <td>$10.29    </td> <td>$0.11    </td> <td>360                                            </td> <td>14.09        </td>\n",
       "        </tr>\n",
       "    </tbody>\n",
       "        <tr>\n",
       "            <td>29  </td> <td>Laura J. Alber         </td> <td>Williams-Sonoma (San Francisco)                </td> <td>$14.00   </td> <td>-5%               </td> <td>$3.97   </td> <td>$10.00    </td> <td>$0.02    </td> <td>223                                            </td> <td>14.00        </td>\n",
       "        </tr>\n",
       "    </tbody>\n",
       "        <tr>\n",
       "            <td>30  </td> <td>Ronald S. Nersesian    </td> <td>Keysight Technologies (Santa Rosa)             </td> <td>$13.67   </td> <td>118%              </td> <td>$2.14   </td> <td>$11.33    </td> <td>$0.20    </td> <td>132                                            </td> <td>13.67        </td>\n",
       "        </tr>\n",
       "    </tbody>\n",
       "        <tr>\n",
       "            <td>31  </td> <td>Walter W. Bettinger    </td> <td>Charles Schwab (San Francisco)                 </td> <td>$12.34   </td> <td>4%                </td> <td>$4.71   </td> <td>$7.50     </td> <td>$0.12    </td> <td>47                                             </td> <td>12.34        </td>\n",
       "        </tr>\n",
       "    </tbody>\n",
       "        <tr>\n",
       "            <td>32  </td> <td>Anthony F. Earley      </td> <td>PG&E (San Francisco)                           </td> <td>$12.20   </td> <td>5%                </td> <td>$3.53   </td> <td>$7.50     </td> <td>$1.17    </td> <td>147                                            </td> <td>12.20        </td>\n",
       "        </tr>\n",
       "    </tbody>\n",
       "        <tr>\n",
       "            <td>33  </td> <td>Carl Bass              </td> <td>Autodesk (San Rafael)                          </td> <td>$12.18   </td> <td>10%               </td> <td>$2.48   </td> <td>$9.62     </td> <td>$0.08    </td> <td>83                                             </td> <td>12.18        </td>\n",
       "        </tr>\n",
       "    </tbody>\n",
       "        <tr>\n",
       "            <td>34  </td> <td>Steven J. Demetriou    </td> <td>Jacobs Engineering Group (Pasadena)            </td> <td>$12.13   </td> <td>(No previous year)</td> <td>$5.78   </td> <td>$6.35     </td> <td>$0.01    </td> <td>173                                            </td> <td>12.13        </td>\n",
       "        </tr>\n",
       "    </tbody>\n",
       "        <tr>\n",
       "            <td>35  </td> <td>Ronald N. Tutor        </td> <td>Tutor Perini (Sylmar)                          </td> <td>$12.05   </td> <td>-53%              </td> <td>$5.50   </td> <td>$5.64     </td> <td>$0.91    </td> <td>182                                            </td> <td>12.05        </td>\n",
       "        </tr>\n",
       "    </tbody>\n",
       "        <tr>\n",
       "            <td>36  </td> <td>Charles W. Scharf      </td> <td>Visa (San Francisco)                           </td> <td>$11.84   </td> <td>54%               </td> <td>$4.31   </td> <td>$7.47     </td> <td>$0.06    </td> <td>157                                            </td> <td>11.84        </td>\n",
       "        </tr>\n",
       "    </tbody>\n",
       "        <tr>\n",
       "            <td>37  </td> <td>Stephen D. Milligan    </td> <td>Western Digital (Irvine)                       </td> <td>$11.71   </td> <td>4%                </td> <td>$2.55   </td> <td>$9.15     </td> <td>$0.01    </td> <td>85                                             </td> <td>11.71        </td>\n",
       "        </tr>\n",
       "    </tbody>\n",
       "        <tr>\n",
       "            <td>38  </td> <td>Andrew Wilson          </td> <td>Electronic Arts  (Redwood City)                </td> <td>$11.63   </td> <td>(No previous year)</td> <td>$2.88   </td> <td>$8.70     </td> <td>$0.06    </td> <td>79                                             </td> <td>11.63        </td>\n",
       "        </tr>\n",
       "    </tbody>\n",
       "        <tr>\n",
       "            <td>39  </td> <td>Martin B. Anstice      </td> <td>Lam Research (Fremont)                         </td> <td>$11.16   </td> <td>-26%              </td> <td>$4.75   </td> <td>$6.41     </td> <td>$0.01    </td> <td>81                                             </td> <td>11.16        </td>\n",
       "        </tr>\n",
       "    </tbody>\n",
       "        <tr>\n",
       "            <td>40  </td> <td>Theodore F. Craver, Jr.</td> <td>Edison International (Rosemead)                </td> <td>$11.11   </td> <td>-22%              </td> <td>$2.90   </td> <td>$5.94     </td> <td>$2.28    </td> <td>107                                            </td> <td>11.11        </td>\n",
       "        </tr>\n",
       "    </tbody>\n",
       "        <tr>\n",
       "            <td>41  </td> <td>Stephen M. Smith       </td> <td>Equinix (Redwood City)                         </td> <td>$11.11   </td> <td>-3%               </td> <td>$2.04   </td> <td>$9.06     </td> <td>$0.01    </td> <td>102                                            </td> <td>11.11        </td>\n",
       "        </tr>\n",
       "    </tbody>\n",
       "        <tr>\n",
       "            <td>42  </td> <td>Sanjay Mehrotra**      </td> <td>SanDisk (Milpitas)                             </td> <td>$10.73   </td> <td>-7%               </td> <td>$1.55   </td> <td>$9.00     </td> <td>$0.17    </td> <td>78                                             </td> <td>10.73        </td>\n",
       "        </tr>\n",
       "    </tbody>\n",
       "        <tr>\n",
       "            <td>43  </td> <td>Ronald L. Havner, Jr.  </td> <td>Public Storage (Glendale)                      </td> <td>$10.50   </td> <td>17%               </td> <td>$3.50   </td> <td>$6.99     </td> <td>$0.01    </td> <td>256                                            </td> <td>10.50        </td>\n",
       "        </tr>\n",
       "    </tbody>\n",
       "        <tr>\n",
       "            <td>44  </td> <td>Rodney C. Sacks        </td> <td>Monster Beverage (Corona)                      </td> <td>$10.43   </td> <td>36%               </td> <td>$1.13   </td> <td>$9.23     </td> <td>$0.08    </td> <td>190                                            </td> <td>10.43        </td>\n",
       "        </tr>\n",
       "    </tbody>\n",
       "        <tr>\n",
       "            <td>45  </td> <td>Steven M. Mollenkopf   </td> <td>Qualcomm (San Diego)                           </td> <td>$10.37   </td> <td>(No previous year)</td> <td>$2.17   </td> <td>$8.00     </td> <td>$0.21    </td> <td>95                                             </td> <td>10.37        </td>\n",
       "        </tr>\n",
       "    </tbody>\n",
       "        <tr>\n",
       "            <td>46  </td> <td>Tim Cook               </td> <td>Apple (Cupertino)                              </td> <td>$10.28   </td> <td>11%               </td> <td>$10.00  </td> <td>$0.00     </td> <td>$0.28    </td> <td>54                                             </td> <td>10.28        </td>\n",
       "        </tr>\n",
       "    </tbody>\n",
       "        <tr>\n",
       "            <td>47  </td> <td>J. Mario Molina        </td> <td>Molina Healthcare (Long Beach)                 </td> <td>$10.27   </td> <td>31%               </td> <td>$2.36   </td> <td>$7.89     </td> <td>$0.02    </td> <td>124                                            </td> <td>10.27        </td>\n",
       "        </tr>\n",
       "    </tbody>\n",
       "        <tr>\n",
       "            <td>48  </td> <td>Jure Sola              </td> <td>Sanmina (San Jose)                             </td> <td>$10.18   </td> <td>22%               </td> <td>$2.32   </td> <td>$7.81     </td> <td>$0.06    </td> <td>144                                            </td> <td>10.18        </td>\n",
       "        </tr>\n",
       "    </tbody>\n",
       "        <tr>\n",
       "            <td>49  </td> <td>Barbara Rentler        </td> <td>Ross Stores (Dublin)                           </td> <td>$10.16   </td> <td>(No previous year)</td> <td>$3.85   </td> <td>$6.20     </td> <td>$0.11    </td> <td>554                                            </td> <td>10.16        </td>\n",
       "        </tr>\n",
       "    </tbody>\n",
       "        <tr>\n",
       "            <td>50  </td> <td>Jen-Hsun Huang         </td> <td>NVIDIA (Santa Clara)                           </td> <td>$9.97    </td> <td>7%                </td> <td>$2.51   </td> <td>$7.46     </td> <td>$0.00    </td> <td>72                                             </td> <td>9.97         </td>\n",
       "        </tr>\n",
       "    </tbody>\n",
       "        <tr>\n",
       "            <td>51  </td> <td>Michael Rapino         </td> <td>Live Nation Entertainment (Beverly Hills)      </td> <td>$9.96    </td> <td>-10%              </td> <td>$7.36   </td> <td>$2.52     </td> <td>$0.08    </td> <td>280                                            </td> <td>9.96         </td>\n",
       "        </tr>\n",
       "    </tbody>\n",
       "        <tr>\n",
       "            <td>52  </td> <td>Harold M. Messmer      </td> <td>Robert Half International  (Menlo Park)        </td> <td>$9.86    </td> <td>8%                </td> <td>$3.65   </td> <td>$6.21     </td> <td>$0.00    </td> <td>324                                            </td> <td>9.86         </td>\n",
       "        </tr>\n",
       "    </tbody>\n",
       "        <tr>\n",
       "            <td>53  </td> <td>Christopher A. Sinclair</td> <td>Mattel (El Segundo)                            </td> <td>$9.74    </td> <td>(No previous year)</td> <td>$2.35   </td> <td>$6.50     </td> <td>$0.90    </td> <td>139                                            </td> <td>9.74         </td>\n",
       "        </tr>\n",
       "    </tbody>\n",
       "        <tr>\n",
       "            <td>54  </td> <td>Rami Rahim             </td> <td>Juniper Networks (Sunnyvale)                   </td> <td>$9.42    </td> <td>(No previous year)</td> <td>$2.01   </td> <td>$7.40     </td> <td>$0.02    </td> <td>82                                             </td> <td>9.42         </td>\n",
       "        </tr>\n",
       "    </tbody>\n",
       "        <tr>\n",
       "            <td>55  </td> <td>Thomas Georgens**      </td> <td>NetApp (Sunnyvale)                             </td> <td>$9.39    </td> <td>9%                </td> <td>$1.93   </td> <td>$7.45     </td> <td>$0.01    </td> <td>68                                             </td> <td>9.39         </td>\n",
       "        </tr>\n",
       "    </tbody>\n",
       "        <tr>\n",
       "            <td>56  </td> <td>Jay T. Flatley**       </td> <td>Illumina (San Diego)                           </td> <td>$9.22    </td> <td>-38%              </td> <td>$2.15   </td> <td>$7.00     </td> <td>$0.06    </td> <td>70                                             </td> <td>9.22         </td>\n",
       "        </tr>\n",
       "    </tbody>\n",
       "        <tr>\n",
       "            <td>57  </td> <td>Michael A. Mussallem   </td> <td>Edwards Lifesciences (Irvine)                  </td> <td>$9.06    </td> <td>5%                </td> <td>$3.05   </td> <td>$5.84     </td> <td>$0.18    </td> <td>119                                            </td> <td>9.06         </td>\n",
       "        </tr>\n",
       "    </tbody>\n",
       "        <tr>\n",
       "            <td>58  </td> <td>Alain Monie            </td> <td>Ingram Micro (Irvine)                          </td> <td>$9.03    </td> <td>8%                </td> <td>$3.50   </td> <td>$5.50     </td> <td>$0.03    </td> <td>72                                             </td> <td>9.03         </td>\n",
       "        </tr>\n",
       "    </tbody>\n",
       "        <tr>\n",
       "            <td>59  </td> <td>Jeffrey T. Mezger      </td> <td>KB Home (Los Angeles)                          </td> <td>$8.86    </td> <td>-14%              </td> <td>$4.97   </td> <td>$3.81     </td> <td>$0.07    </td> <td>165                                            </td> <td>8.86         </td>\n",
       "        </tr>\n",
       "    </tbody>\n",
       "        <tr>\n",
       "            <td>60  </td> <td>Steven W. Berglund     </td> <td>Trimble Navigation  (Sunnyvale)                </td> <td>$8.76    </td> <td>24%               </td> <td>$1.03   </td> <td>$7.72     </td> <td>$0.00    </td> <td>109                                            </td> <td>8.76         </td>\n",
       "        </tr>\n",
       "    </tbody>\n",
       "        <tr>\n",
       "            <td>61  </td> <td>Dean A. Scarborough**  </td> <td>Avery Dennison (Glendale)                      </td> <td>$8.57    </td> <td>-29%              </td> <td>$3.02   </td> <td>$5.24     </td> <td>$0.30    </td> <td>115                                            </td> <td>8.57         </td>\n",
       "        </tr>\n",
       "    </tbody>\n",
       "        <tr>\n",
       "            <td>62  </td> <td>Richard P. Wallace     </td> <td>KLA-Tencor (Milpitas)                          </td> <td>$8.38    </td> <td>22%               </td> <td>$2.05   </td> <td>$6.30     </td> <td>$0.03    </td> <td>114                                            </td> <td>8.38         </td>\n",
       "        </tr>\n",
       "    </tbody>\n",
       "        <tr>\n",
       "            <td>63  </td> <td>Gregg J. Mollins       </td> <td>Reliance Steelæ& Aluminum (Los Angeles)        </td> <td>$8.36    </td> <td>(No previous year)</td> <td>$2.09   </td> <td>$5.57     </td> <td>$0.70    </td> <td>130                                            </td> <td>8.36         </td>\n",
       "        </tr>\n",
       "    </tbody>\n",
       "        <tr>\n",
       "            <td>64  </td> <td>Lloyd A. Carney        </td> <td>Brocade Communications Systems (San Jose)      </td> <td>$8.35    </td> <td>-17%              </td> <td>$1.98   </td> <td>$6.37     </td> <td>$0.00    </td> <td>61                                             </td> <td>8.35         </td>\n",
       "        </tr>\n",
       "    </tbody>\n",
       "        <tr>\n",
       "            <td>65  </td> <td>Robert L. Antin        </td> <td>VCA (Los Angeles)                              </td> <td>$8.23    </td> <td>19%               </td> <td>$3.57   </td> <td>$4.30     </td> <td>$0.37    </td> <td>226                                            </td> <td>8.23         </td>\n",
       "        </tr>\n",
       "    </tbody>\n",
       "        <tr>\n",
       "            <td>66  </td> <td>Benno O. Dorer         </td> <td>Clorox (Oakland)                               </td> <td>$7.86    </td> <td>(No previous year)</td> <td>$2.47   </td> <td>$5.00     </td> <td>$0.39    </td> <td>96                                             </td> <td>7.86         </td>\n",
       "        </tr>\n",
       "    </tbody>\n",
       "        <tr>\n",
       "            <td>67  </td> <td>Robert E. Sulentic     </td> <td>CBRE Group (Los Angeles)                       </td> <td>$7.70    </td> <td>21%               </td> <td>$3.57   </td> <td>$4.12     </td> <td>$0.00    </td> <td>135                                            </td> <td>7.70         </td>\n",
       "        </tr>\n",
       "    </tbody>\n",
       "        <tr>\n",
       "            <td>68  </td> <td>Peter T. Dameris       </td> <td>On Assignment  (Calabasas)                     </td> <td>$7.58    </td> <td>36%               </td> <td>$2.47   </td> <td>$5.10     </td> <td>$0.01    </td> <td>250                                            </td> <td>7.58         </td>\n",
       "        </tr>\n",
       "    </tbody>\n",
       "        <tr>\n",
       "            <td>69  </td> <td>Dow R. Wilson          </td> <td>Varian Medical Systems (Palo Alto)             </td> <td>$7.51    </td> <td>16%               </td> <td>$1.86   </td> <td>$5.50     </td> <td>$0.15    </td> <td>72                                             </td> <td>7.51         </td>\n",
       "        </tr>\n",
       "    </tbody>\n",
       "        <tr>\n",
       "            <td>70  </td> <td>Robert A. Kotick       </td> <td>Activision Blizzard (Santa Monica)             </td> <td>$7.23    </td> <td>5%                </td> <td>$7.14   </td> <td>$0.00     </td> <td>$0.09    </td> <td>49                                             </td> <td>7.23         </td>\n",
       "        </tr>\n",
       "    </tbody>\n",
       "        <tr>\n",
       "            <td>71  </td> <td>Michael R. McMullen    </td> <td>Agilent Technologies (Santa Clara)             </td> <td>$7.21    </td> <td>(No previous year)</td> <td>$1.96   </td> <td>$4.95     </td> <td>$0.30    </td> <td>76                                             </td> <td>7.21         </td>\n",
       "        </tr>\n",
       "    </tbody>\n",
       "        <tr>\n",
       "            <td>72  </td> <td>Robert Y. Greenberg    </td> <td>Skechers U.S.A. (Manhattan Beach)              </td> <td>$7.12    </td> <td>-25%              </td> <td>$6.85   </td> <td>$0.00     </td> <td>$0.27    </td> <td>182                                            </td> <td>7.12         </td>\n",
       "        </tr>\n",
       "    </tbody>\n",
       "        <tr>\n",
       "            <td>73  </td> <td>Lauralee E. Martin     </td> <td>HCP (Irvine)                                   </td> <td>$6.88    </td> <td>-45%              </td> <td>$2.19   </td> <td>$4.68     </td> <td>$0.01    </td> <td>152                                            </td> <td>6.88         </td>\n",
       "        </tr>\n",
       "    </tbody>\n",
       "        <tr>\n",
       "            <td>74  </td> <td>Jon Feltheimer         </td> <td>Lions Gate Entertainment (Santa Monica)        </td> <td>$6.77    </td> <td>-90%              </td> <td>$5.55   </td> <td>$1.00     </td> <td>$0.22    </td> <td>46                                             </td> <td>6.77         </td>\n",
       "        </tr>\n",
       "    </tbody>\n",
       "        <tr>\n",
       "            <td>75  </td> <td>Todd A. Stevens        </td> <td>California Resources  (Los Angeles)            </td> <td>$6.64    </td> <td>(No previous year)</td> <td>$1.58   </td> <td>$4.65     </td> <td>$0.41    </td> <td>41                                             </td> <td>6.64         </td>\n",
       "        </tr>\n",
       "    </tbody>\n",
       "        <tr>\n",
       "            <td>76  </td> <td>Lisa T. Su             </td> <td>Advanced Micro Devices (Sunnyvale)             </td> <td>$6.56    </td> <td>(No previous year)</td> <td>$1.15   </td> <td>$5.38     </td> <td>$0.03    </td> <td>48                                             </td> <td>6.56         </td>\n",
       "        </tr>\n",
       "    </tbody>\n",
       "        <tr>\n",
       "            <td>77  </td> <td>Arthur Peck            </td> <td>Gap (San Francisco)                            </td> <td>$6.14    </td> <td>(No previous year)</td> <td>$1.30   </td> <td>$4.81     </td> <td>$0.03    </td> <td>335                                            </td> <td>6.14         </td>\n",
       "        </tr>\n",
       "    </tbody>\n",
       "        <tr>\n",
       "            <td>78  </td> <td>David Overton          </td> <td>Cheesecake Factory  (Calabasas Hills)          </td> <td>$5.92    </td> <td>10%               </td> <td>$2.20   </td> <td>$3.59     </td> <td>$0.13    </td> <td>303                                            </td> <td>5.92         </td>\n",
       "        </tr>\n",
       "    </tbody>\n",
       "        <tr>\n",
       "            <td>79  </td> <td>Moshe N. Gavrielov     </td> <td>Xilinx (San Jose)                              </td> <td>$5.90    </td> <td>-9%               </td> <td>$1.61   </td> <td>$4.29     </td> <td>$0.00    </td> <td>43                                             </td> <td>5.90         </td>\n",
       "        </tr>\n",
       "    </tbody>\n",
       "        <tr>\n",
       "            <td>80  </td> <td>Tunc Doluca            </td> <td>Maxim Integrated Products (San Jose)           </td> <td>$5.89    </td> <td>57%               </td> <td>$1.59   </td> <td>$4.29     </td> <td>$0.02    </td> <td>43                                             </td> <td>5.89         </td>\n",
       "        </tr>\n",
       "    </tbody>\n",
       "        <tr>\n",
       "            <td>81  </td> <td>Dennis J. Gilmore      </td> <td>First American Financial (Santa Ana)           </td> <td>$5.73    </td> <td>2%                </td> <td>$3.16   </td> <td>$2.56     </td> <td>$0.01    </td> <td>68                                             </td> <td>5.73         </td>\n",
       "        </tr>\n",
       "    </tbody>\n",
       "        <tr>\n",
       "            <td>82  </td> <td>Dan L. Batrack         </td> <td>Tetra Tech (Pasadena)                          </td> <td>$5.42    </td> <td>20%               </td> <td>$1.95   </td> <td>$3.43     </td> <td>$0.04    </td> <td>58                                             </td> <td>5.42         </td>\n",
       "        </tr>\n",
       "    </tbody>\n",
       "        <tr>\n",
       "            <td>83  </td> <td>Mark E. Zuckerberg     </td> <td>Facebook (Menlo Park)                          </td> <td>$5.04    </td> <td>-19%              </td> <td>$0.00   </td> <td>$0.00     </td> <td>$5.04    </td> <td>46                                             </td> <td>5.04         </td>\n",
       "        </tr>\n",
       "    </tbody>\n",
       "        <tr>\n",
       "            <td>84  </td> <td>Aart J. de Geus*       </td> <td>Synopsys (Mountain View)                       </td> <td>$4.92    </td> <td>10%               </td> <td>$2.32   </td> <td>$2.57     </td> <td>$0.03    </td> <td>54                                             </td> <td>4.92         </td>\n",
       "        </tr>\n",
       "    </tbody>\n",
       "        <tr>\n",
       "            <td>85  </td> <td>Chi-Foon Chan*         </td> <td>Synopsys (Mountain View)                       </td> <td>$4.92    </td> <td>9%                </td> <td>$2.32   </td> <td>$2.57     </td> <td>$0.03    </td> <td>54                                             </td> <td>4.92         </td>\n",
       "        </tr>\n",
       "    </tbody>\n",
       "        <tr>\n",
       "            <td>86  </td> <td>Douglas F. Bauer       </td> <td>TRI Pointe Group (Irvine)                      </td> <td>$4.47    </td> <td>114%              </td> <td>$1.33   </td> <td>$3.12     </td> <td>$0.02    </td> <td>83                                             </td> <td>4.47         </td>\n",
       "        </tr>\n",
       "    </tbody>\n",
       "        <tr>\n",
       "            <td>87  </td> <td>Burton M. Goldfield    </td> <td>TriNet Group (San Leandro)                     </td> <td>$4.25    </td> <td>76%               </td> <td>$0.69   </td> <td>$3.50     </td> <td>$0.06    </td> <td>49                                             </td> <td>4.25         </td>\n",
       "        </tr>\n",
       "    </tbody>\n",
       "        <tr>\n",
       "            <td>88  </td> <td>Robert Mehrabian       </td> <td>Teledyne Technologies  (Thousand Oaks)         </td> <td>$4.08    </td> <td>-52%              </td> <td>$1.98   </td> <td>$1.63     </td> <td>$0.46    </td> <td>37                                             </td> <td>4.08         </td>\n",
       "        </tr>\n",
       "    </tbody>\n",
       "        <tr>\n",
       "            <td>89  </td> <td>Kevin M. Murai         </td> <td>SYNNEX (Fremont)                               </td> <td>$3.93    </td> <td>-48%              </td> <td>$1.84   </td> <td>$2.07     </td> <td>$0.01    </td> <td>31                                             </td> <td>3.93         </td>\n",
       "        </tr>\n",
       "    </tbody>\n",
       "        <tr>\n",
       "            <td>90  </td> <td>Gary S. Guthart        </td> <td>Intuitive Surgical (Sunnyvale)                 </td> <td>$3.72    </td> <td>42%               </td> <td>$1.21   </td> <td>$2.52     </td> <td>$0.00    </td> <td>49                                             </td> <td>3.72         </td>\n",
       "        </tr>\n",
       "    </tbody>\n",
       "        <tr>\n",
       "            <td>91  </td> <td>Larry T. Nicholson     </td> <td>CalAtlantic Group (Irvine)                     </td> <td>$2.88    </td> <td>(No previous year)</td> <td>$2.85   </td> <td>$0.00     </td> <td>$0.03    </td> <td>37                                             </td> <td>2.88         </td>\n",
       "        </tr>\n",
       "    </tbody>\n",
       "        <tr>\n",
       "            <td>92  </td> <td>James H. Roberts       </td> <td>Granite Construction (Watsonville)             </td> <td>$2.83    </td> <td>22%               </td> <td>$1.73   </td> <td>$0.98     </td> <td>$0.12    </td> <td>40                                             </td> <td>2.83         </td>\n",
       "        </tr>\n",
       "    </tbody>\n",
       "        <tr>\n",
       "            <td>93  </td> <td>Thomas T. Edman        </td> <td>TTM Technologies (Costa Mesa)                  </td> <td>$2.82    </td> <td>87%               </td> <td>$1.89   </td> <td>$0.92     </td> <td>$0.01    </td> <td>43                                             </td> <td>2.82         </td>\n",
       "        </tr>\n",
       "    </tbody>\n",
       "        <tr>\n",
       "            <td>94  </td> <td>Gabriel Tirador        </td> <td>Mercury General (Los Angeles)                  </td> <td>$2.45    </td> <td>-4%               </td> <td>$1.85   </td> <td>$0.54     </td> <td>$0.06    </td> <td>28                                             </td> <td>2.45         </td>\n",
       "        </tr>\n",
       "    </tbody>\n",
       "        <tr>\n",
       "            <td>95  </td> <td>Thomas B. Perkins      </td> <td>Core-Mark Holding Company (South San Francisco)</td> <td>$1.79    </td> <td>9%                </td> <td>$0.91   </td> <td>$0.87     </td> <td>$0.01    </td> <td>31                                             </td> <td>1.79         </td>\n",
       "        </tr>\n",
       "    </tbody>\n",
       "        <tr>\n",
       "            <td>96  </td> <td>Gary G. Friedman       </td> <td>Restoration Hardware Holdings (Corte Madera)   </td> <td>$1.68    </td> <td>-35%              </td> <td>$1.66   </td> <td>$0.00     </td> <td>$0.02    </td> <td>28                                             </td> <td>1.68         </td>\n",
       "        </tr>\n",
       "    </tbody>\n",
       "        <tr>\n",
       "            <td>97  </td> <td>David G. Hirz          </td> <td>Smartæ& Final Stores (Commerce)                </td> <td>$1.53    </td> <td>-66%              </td> <td>$1.50   </td> <td>$0.00     </td> <td>$0.04    </td> <td>26                                             </td> <td>1.53         </td>\n",
       "        </tr>\n",
       "    </tbody>\n",
       "        <tr>\n",
       "            <td>98  </td> <td>Gregory N. Roberts     </td> <td>A-Mark Precious Metals (Santa Monica)          </td> <td>$0.94    </td> <td>-11%              </td> <td>$0.93   </td> <td>$0.00     </td> <td>$0.02    </td> <td>17                                             </td> <td>0.94         </td>\n",
       "        </tr>\n",
       "    </tbody>\n",
       "        <tr>\n",
       "            <td>99  </td> <td>Jose L. Laparte        </td> <td>PriceSmart (San Diego)                         </td> <td>$0.81    </td> <td>-7%               </td> <td>$0.71   </td> <td>$0.00     </td> <td>$0.10    </td> <td>32                                             </td> <td>0.81         </td>\n",
       "        </tr>\n",
       "    </tbody>\n",
       "        <tr>\n",
       "            <td>100 </td> <td>Jack Dorsey            </td> <td>Twitter (San Francisco)                        </td> <td>$0.07    </td> <td>(No previous year)</td> <td>$0.00   </td> <td>$0.00     </td> <td>$0.07    </td> <td>0.63                                           </td> <td>0.07         </td>\n",
       "        </tr>\n",
       "    </tbody>\n",
       "        <tr>\n",
       "            <td>101 </td> <td>Elon R. Musk           </td> <td>Tesla Motors (Palo Alto)                       </td> <td>$0.04    </td> <td>6%                </td> <td>$0.04   </td> <td>$0.00     </td> <td>$0.00    </td> <td>0.46                                           </td> <td>0.04         </td>\n",
       "        </tr>\n",
       "    </tbody>\n",
       "        <tr>\n",
       "            <td>102 </td> <td>Lawrence Page***       </td> <td>Alphabet (Mountain View)                       </td> <td>$0.00    </td> <td>0%                </td> <td>$0.00   </td> <td>$0.00     </td> <td>$0.00    </td> <td>1e-05                                          </td> <td>0.00         </td>\n",
       "        </tr>\n",
       "    </tbody>\n",
       "</table>"
      ],
      "text/plain": [
       "<IPython.core.display.HTML object>"
      ]
     },
     "metadata": {},
     "output_type": "display_data"
    }
   ],
   "source": [
    "compensation = raw_compensation.with_column(\n",
    "    \"Total Pay ($)\",\n",
    "    pay)\n",
    "compensation.set_format(\"Total Pay ($)\", NumberFormatter).show()"
   ]
  },
  {
   "cell_type": "code",
   "execution_count": null,
   "metadata": {
    "collapsed": false,
    "deletable": true,
    "editable": true
   },
   "outputs": [],
   "source": [
    "_ = tests.grade('q3_2')"
   ]
  },
  {
   "cell_type": "markdown",
   "metadata": {
    "deletable": true,
    "editable": true
   },
   "source": [
    "Now that we have the pay in numbers, we can compute things about them.\n",
    "\n",
    "**Question 3.** Compute the average total pay of the CEOs in the dataset."
   ]
  },
  {
   "cell_type": "code",
   "execution_count": 51,
   "metadata": {
    "collapsed": false,
    "deletable": true,
    "editable": true
   },
   "outputs": [
    {
     "data": {
      "text/plain": [
       "11.445294117647055"
      ]
     },
     "execution_count": 51,
     "metadata": {},
     "output_type": "execute_result"
    }
   ],
   "source": [
    "average_total_pay = compensation.column(\"Total Pay ($)\").mean()\n",
    "average_total_pay"
   ]
  },
  {
   "cell_type": "code",
   "execution_count": null,
   "metadata": {
    "collapsed": false,
    "deletable": true,
    "editable": true
   },
   "outputs": [],
   "source": [
    "_ = tests.grade('q3_3')"
   ]
  },
  {
   "cell_type": "markdown",
   "metadata": {
    "deletable": true,
    "editable": true
   },
   "source": [
    "**Question 4.** Companies pay executives in a variety of ways: directly in cash; by granting stock or other \"equity\" in the company; or with ancillary benefits (like private jets).  Compute the proportion of each CEO's pay that was cash.  (Your answer should be an array of numbers, one for each CEO in the dataset.)"
   ]
  },
  {
   "cell_type": "code",
   "execution_count": 39,
   "metadata": {
    "collapsed": false,
    "deletable": true,
    "editable": true
   },
   "outputs": [
    {
     "name": "stderr",
     "output_type": "stream",
     "text": [
      "/usr/local/lib/python3.5/dist-packages/ipykernel/__main__.py:1: RuntimeWarning: invalid value encountered in true_divide\n",
      "  if __name__ == '__main__':\n"
     ]
    },
    {
     "data": {
      "text/plain": [
       "array([ 0.01784038,  0.01784373,  0.55421955,  0.02779322,  0.13938849,\n",
       "        0.48711755,  0.19555354,  0.12437059,  0.25993884,  0.35196687,\n",
       "        0.3075693 ,  0.22138635,  0.13126362,  0.1708126 ,  0.23099415,\n",
       "        0.06734817,  0.13043478,  0.28004957,  0.33229814,  0.15355805,\n",
       "        0.29337748,  0.21829105,  0.31100478,  0.25086147,  0.2299169 ,\n",
       "        0.16991643,  0.31795947,  0.26188786,  0.28357143,  0.15654718,\n",
       "        0.38168558,  0.28934426,  0.20361248,  0.47650453,  0.45643154,\n",
       "        0.36402027,  0.2177626 ,  0.24763543,  0.42562724,  0.2610261 ,\n",
       "        0.18361836,  0.1444548 ,  0.33333333,  0.10834132,  0.20925747,\n",
       "        0.97276265,  0.22979552,  0.22789784,  0.37893701,  0.25175527,\n",
       "        0.73895582,  0.37018256,  0.2412731 ,  0.2133758 ,  0.20553781,\n",
       "        0.23318872,  0.33664459,  0.3875969 ,  0.56094808,  0.11757991,\n",
       "        0.35239207,  0.24463007,  0.25      ,  0.23712575,  0.43377886,\n",
       "        0.31424936,  0.46363636,  0.32585752,  0.24766977,  0.98755187,\n",
       "        0.27184466,  0.96207865,  0.31831395,  0.81979321,  0.23795181,\n",
       "        0.17530488,  0.21172638,  0.37162162,  0.27288136,  0.26994907,\n",
       "        0.55148342,  0.3597786 ,  0.        ,  0.47154472,  0.47154472,\n",
       "        0.29753915,  0.16235294,  0.48529412,  0.46819338,  0.32526882,\n",
       "        0.98958333,  0.61130742,  0.67021277,  0.75510204,  0.50837989,\n",
       "        0.98809524,  0.98039216,  0.9893617 ,  0.87654321,  0.        ,\n",
       "        1.        ,         nan])"
      ]
     },
     "execution_count": 39,
     "metadata": {},
     "output_type": "execute_result"
    }
   ],
   "source": [
    "cash_proportion = compensation.apply(convert_pay_string_to_number, \"Cash Pay\") / compensation.column(\"Total Pay ($)\")\n",
    "cash_proportion"
   ]
  },
  {
   "cell_type": "code",
   "execution_count": null,
   "metadata": {
    "collapsed": false,
    "deletable": true,
    "editable": true
   },
   "outputs": [],
   "source": [
    "_ = tests.grade('q3_4')"
   ]
  },
  {
   "cell_type": "markdown",
   "metadata": {
    "deletable": true,
    "editable": true
   },
   "source": [
    "Check out the \"% Change\" column in `compensation`.  It shows the percentage increase in the CEO's pay from the previous year.  For CEOs with no previous year on record, it instead says \"(No previous year)\".  The values in this column are *strings*, not numbers, so like the \"Total Pay\" column, it's not usable without a bit of extra work.\n",
    "\n",
    "Given your current pay and the percentage increase from the previous year, you can compute your previous year's pay.  For example, if your pay is \\$100 this year, and that's an increase of 50% from the previous year, then your previous year's pay was $\\frac{\\$100}{1 + \\frac{50}{100}}$, or around \\$66.66.\n",
    "\n",
    "**Question 5.** Create a new table called `with_previous_compensation`.  It should be a copy of `compensation`, but with the \"(No previous year)\" CEOs filtered out, and with an extra column called \"2014 Total Pay ($)\".  That column should have each CEO's pay in 2014.\n",
    "\n",
    "*Hint:* This question takes several steps, but each one is still something you've seen before.  Take it one step at a time, using as many lines as you need.  You can print out your results after each step to make sure you're on the right track.\n",
    "\n",
    "*Hint 2:* You'll need to define a function.  You can do that just above your other code."
   ]
  },
  {
   "cell_type": "code",
   "execution_count": 49,
   "metadata": {
    "collapsed": false,
    "deletable": true,
    "editable": true,
    "for_assignment_type": "student"
   },
   "outputs": [
    {
     "data": {
      "text/html": [
       "<table border=\"1\" class=\"dataframe\">\n",
       "    <thead>\n",
       "        <tr>\n",
       "            <th>Rank</th> <th>Name</th> <th>Company (Headquarters)</th> <th>Total Pay</th> <th>% Change</th> <th>Cash Pay</th> <th>Equity Pay</th> <th>Other Pay</th> <th>Ratio of CEO pay to average industry worker pay</th> <th>Total Pay ($)</th> <th>Change Factor</th> <th>2014 Total Pay ($)</th>\n",
       "        </tr>\n",
       "    </thead>\n",
       "    <tbody>\n",
       "        <tr>\n",
       "            <td>3   </td> <td>Robert A. Iger         </td> <td>Walt Disney (Burbank)                          </td> <td>$44.91   </td> <td>-3      </td> <td>$24.89  </td> <td>$17.28    </td> <td>$2.74    </td> <td>477                                            </td> <td>44.91        </td> <td>0.97         </td> <td>46.299            </td>\n",
       "        </tr>\n",
       "    </tbody>\n",
       "        <tr>\n",
       "            <td>4   </td> <td>Marissa A. Mayer       </td> <td>Yahoo! (Sunnyvale)                             </td> <td>$35.98   </td> <td>-15     </td> <td>$1.00   </td> <td>$34.43    </td> <td>$0.55    </td> <td>342                                            </td> <td>35.98        </td> <td>0.85         </td> <td>42.3294           </td>\n",
       "        </tr>\n",
       "    </tbody>\n",
       "        <tr>\n",
       "            <td>5   </td> <td>Marc Benioff           </td> <td>salesforce.com (San Francisco)                 </td> <td>$33.36   </td> <td>-16     </td> <td>$4.65   </td> <td>$27.26    </td> <td>$1.45    </td> <td>338                                            </td> <td>33.36        </td> <td>0.84         </td> <td>39.7143           </td>\n",
       "        </tr>\n",
       "    </tbody>\n",
       "        <tr>\n",
       "            <td>6   </td> <td>John H. Hammergren     </td> <td>McKesson (San Francisco)                       </td> <td>$24.84   </td> <td>-4      </td> <td>$12.10  </td> <td>$12.37    </td> <td>$0.37    </td> <td>222                                            </td> <td>24.84        </td> <td>0.96         </td> <td>25.875            </td>\n",
       "        </tr>\n",
       "    </tbody>\n",
       "        <tr>\n",
       "            <td>7   </td> <td>John S. Watson         </td> <td>Chevron (San Ramon)                            </td> <td>$22.04   </td> <td>-15     </td> <td>$4.31   </td> <td>$14.68    </td> <td>$3.05    </td> <td>183                                            </td> <td>22.04        </td> <td>0.85         </td> <td>25.9294           </td>\n",
       "        </tr>\n",
       "    </tbody>\n",
       "        <tr>\n",
       "            <td>8   </td> <td>Jeffrey Weiner         </td> <td>LinkedIn (Mountain View)                       </td> <td>$19.86   </td> <td>27      </td> <td>$2.47   </td> <td>$17.26    </td> <td>$0.13    </td> <td>182                                            </td> <td>19.86        </td> <td>1.27         </td> <td>15.6378           </td>\n",
       "        </tr>\n",
       "    </tbody>\n",
       "        <tr>\n",
       "            <td>9   </td> <td>John T. Chambers**     </td> <td>Cisco Systems (San Jose)                       </td> <td>$19.62   </td> <td>19      </td> <td>$5.10   </td> <td>$14.51    </td> <td>$0.01    </td> <td>170                                            </td> <td>19.62        </td> <td>1.19         </td> <td>16.4874           </td>\n",
       "        </tr>\n",
       "    </tbody>\n",
       "        <tr>\n",
       "            <td>10  </td> <td>John G. Stumpf         </td> <td>Wells Fargo  (San Francisco)                   </td> <td>$19.32   </td> <td>-10     </td> <td>$6.80   </td> <td>$12.50    </td> <td>$0.02    </td> <td>256                                            </td> <td>19.32        </td> <td>0.9          </td> <td>21.4667           </td>\n",
       "        </tr>\n",
       "    </tbody>\n",
       "        <tr>\n",
       "            <td>11  </td> <td>John C. Martin**       </td> <td>Gilead Sciences (Foster City)                  </td> <td>$18.76   </td> <td>-1      </td> <td>$5.77   </td> <td>$12.98    </td> <td>$0.01    </td> <td>117                                            </td> <td>18.76        </td> <td>0.99         </td> <td>18.9495           </td>\n",
       "        </tr>\n",
       "    </tbody>\n",
       "        <tr>\n",
       "            <td>13  </td> <td>Shantanu Narayen       </td> <td>Adobe Systems (San Jose)                       </td> <td>$18.36   </td> <td>3       </td> <td>$2.41   </td> <td>$15.85    </td> <td>$0.09    </td> <td>125                                            </td> <td>18.36        </td> <td>1.03         </td> <td>17.8252           </td>\n",
       "        </tr>\n",
       "    </tbody>\n",
       "        <tr>\n",
       "            <td>14  </td> <td>Gary E. Dickerson      </td> <td>Applied Materials (Santa Clara)                </td> <td>$18.09   </td> <td>10      </td> <td>$3.09   </td> <td>$10.82    </td> <td>$4.19    </td> <td>131                                            </td> <td>18.09        </td> <td>1.1          </td> <td>16.4455           </td>\n",
       "        </tr>\n",
       "    </tbody>\n",
       "        <tr>\n",
       "            <td>15  </td> <td>Margaret C. Whitman**  </td> <td>Hewlett-Packard (Palo Alto)                    </td> <td>$17.10   </td> <td>-13     </td> <td>$3.95   </td> <td>$12.85    </td> <td>$0.30    </td> <td>89                                             </td> <td>17.10        </td> <td>0.87         </td> <td>19.6552           </td>\n",
       "        </tr>\n",
       "    </tbody>\n",
       "        <tr>\n",
       "            <td>16  </td> <td>Reed Hastings          </td> <td>Netflix (Los Gatos)                            </td> <td>$16.63   </td> <td>50      </td> <td>$1.12   </td> <td>$15.50    </td> <td>$0.02    </td> <td>161                                            </td> <td>16.63        </td> <td>1.5          </td> <td>11.0867           </td>\n",
       "        </tr>\n",
       "    </tbody>\n",
       "        <tr>\n",
       "            <td>18  </td> <td>Debra L. Reed          </td> <td>Sempra Energy (San Diego)                      </td> <td>$16.14   </td> <td>-4      </td> <td>$4.52   </td> <td>$7.16     </td> <td>$4.46    </td> <td>152                                            </td> <td>16.14        </td> <td>0.96         </td> <td>16.8125           </td>\n",
       "        </tr>\n",
       "    </tbody>\n",
       "        <tr>\n",
       "            <td>19  </td> <td>Robert A. Bradway      </td> <td>Amgen (Thousand Oaks)                          </td> <td>$16.10   </td> <td>15      </td> <td>$5.35   </td> <td>$10.20    </td> <td>$0.55    </td> <td>152                                            </td> <td>16.10        </td> <td>1.15         </td> <td>14                </td>\n",
       "        </tr>\n",
       "    </tbody>\n",
       "        <tr>\n",
       "            <td>20  </td> <td>Brad D. Smith          </td> <td>Intuit (Mountain View)                         </td> <td>$16.02   </td> <td>-3      </td> <td>$2.46   </td> <td>$13.55    </td> <td>$0.01    </td> <td>150                                            </td> <td>16.02        </td> <td>0.97         </td> <td>16.5155           </td>\n",
       "        </tr>\n",
       "    </tbody>\n",
       "        <tr>\n",
       "            <td>21  </td> <td>Gregory E. Johnson     </td> <td>Franklin Resources (San Mateo)                 </td> <td>$15.10   </td> <td>-5      </td> <td>$4.43   </td> <td>$10.60    </td> <td>$0.06    </td> <td>92                                             </td> <td>15.10        </td> <td>0.95         </td> <td>15.8947           </td>\n",
       "        </tr>\n",
       "    </tbody>\n",
       "        <tr>\n",
       "            <td>22  </td> <td>Hamid R. Moghadam      </td> <td>Prologis (San Francisco)                       </td> <td>$14.98   </td> <td>-9      </td> <td>$3.27   </td> <td>$11.62    </td> <td>$0.10    </td> <td>196                                            </td> <td>14.98        </td> <td>0.91         </td> <td>16.4615           </td>\n",
       "        </tr>\n",
       "    </tbody>\n",
       "        <tr>\n",
       "            <td>23  </td> <td>Brian M. Krzanich      </td> <td>Intel (Santa Clara)                            </td> <td>$14.63   </td> <td>31      </td> <td>$4.55   </td> <td>$9.80     </td> <td>$0.28    </td> <td>106                                            </td> <td>14.63        </td> <td>1.31         </td> <td>11.1679           </td>\n",
       "        </tr>\n",
       "    </tbody>\n",
       "        <tr>\n",
       "            <td>26  </td> <td>Patrick P. Gelsinger   </td> <td>VMware (Palo Alto)                             </td> <td>$14.36   </td> <td>68      </td> <td>$2.44   </td> <td>$11.90    </td> <td>$0.01    </td> <td>98                                             </td> <td>14.36        </td> <td>1.68         </td> <td>8.54762           </td>\n",
       "        </tr>\n",
       "    </tbody>\n",
       "        <tr>\n",
       "            <td>27  </td> <td>Jay M. Gellert**       </td> <td>Health Net (Woodland Hills)                    </td> <td>$14.31   </td> <td>15      </td> <td>$4.55   </td> <td>$7.24     </td> <td>$2.52    </td> <td>173                                            </td> <td>14.31        </td> <td>1.15         </td> <td>12.4435           </td>\n",
       "        </tr>\n",
       "    </tbody>\n",
       "        <tr>\n",
       "            <td>29  </td> <td>Laura J. Alber         </td> <td>Williams-Sonoma (San Francisco)                </td> <td>$14.00   </td> <td>-5      </td> <td>$3.97   </td> <td>$10.00    </td> <td>$0.02    </td> <td>223                                            </td> <td>14.00        </td> <td>0.95         </td> <td>14.7368           </td>\n",
       "        </tr>\n",
       "    </tbody>\n",
       "        <tr>\n",
       "            <td>30  </td> <td>Ronald S. Nersesian    </td> <td>Keysight Technologies (Santa Rosa)             </td> <td>$13.67   </td> <td>118     </td> <td>$2.14   </td> <td>$11.33    </td> <td>$0.20    </td> <td>132                                            </td> <td>13.67        </td> <td>2.18         </td> <td>6.27064           </td>\n",
       "        </tr>\n",
       "    </tbody>\n",
       "        <tr>\n",
       "            <td>31  </td> <td>Walter W. Bettinger    </td> <td>Charles Schwab (San Francisco)                 </td> <td>$12.34   </td> <td>4       </td> <td>$4.71   </td> <td>$7.50     </td> <td>$0.12    </td> <td>47                                             </td> <td>12.34        </td> <td>1.04         </td> <td>11.8654           </td>\n",
       "        </tr>\n",
       "    </tbody>\n",
       "        <tr>\n",
       "            <td>32  </td> <td>Anthony F. Earley      </td> <td>PG&E (San Francisco)                           </td> <td>$12.20   </td> <td>5       </td> <td>$3.53   </td> <td>$7.50     </td> <td>$1.17    </td> <td>147                                            </td> <td>12.20        </td> <td>1.05         </td> <td>11.619            </td>\n",
       "        </tr>\n",
       "    </tbody>\n",
       "        <tr>\n",
       "            <td>33  </td> <td>Carl Bass              </td> <td>Autodesk (San Rafael)                          </td> <td>$12.18   </td> <td>10      </td> <td>$2.48   </td> <td>$9.62     </td> <td>$0.08    </td> <td>83                                             </td> <td>12.18        </td> <td>1.1          </td> <td>11.0727           </td>\n",
       "        </tr>\n",
       "    </tbody>\n",
       "        <tr>\n",
       "            <td>35  </td> <td>Ronald N. Tutor        </td> <td>Tutor Perini (Sylmar)                          </td> <td>$12.05   </td> <td>-53     </td> <td>$5.50   </td> <td>$5.64     </td> <td>$0.91    </td> <td>182                                            </td> <td>12.05        </td> <td>0.47         </td> <td>25.6383           </td>\n",
       "        </tr>\n",
       "    </tbody>\n",
       "        <tr>\n",
       "            <td>36  </td> <td>Charles W. Scharf      </td> <td>Visa (San Francisco)                           </td> <td>$11.84   </td> <td>54      </td> <td>$4.31   </td> <td>$7.47     </td> <td>$0.06    </td> <td>157                                            </td> <td>11.84        </td> <td>1.54         </td> <td>7.68831           </td>\n",
       "        </tr>\n",
       "    </tbody>\n",
       "        <tr>\n",
       "            <td>37  </td> <td>Stephen D. Milligan    </td> <td>Western Digital (Irvine)                       </td> <td>$11.71   </td> <td>4       </td> <td>$2.55   </td> <td>$9.15     </td> <td>$0.01    </td> <td>85                                             </td> <td>11.71        </td> <td>1.04         </td> <td>11.2596           </td>\n",
       "        </tr>\n",
       "    </tbody>\n",
       "        <tr>\n",
       "            <td>39  </td> <td>Martin B. Anstice      </td> <td>Lam Research (Fremont)                         </td> <td>$11.16   </td> <td>-26     </td> <td>$4.75   </td> <td>$6.41     </td> <td>$0.01    </td> <td>81                                             </td> <td>11.16        </td> <td>0.74         </td> <td>15.0811           </td>\n",
       "        </tr>\n",
       "    </tbody>\n",
       "        <tr>\n",
       "            <td>40  </td> <td>Theodore F. Craver, Jr.</td> <td>Edison International (Rosemead)                </td> <td>$11.11   </td> <td>-22     </td> <td>$2.90   </td> <td>$5.94     </td> <td>$2.28    </td> <td>107                                            </td> <td>11.11        </td> <td>0.78         </td> <td>14.2436           </td>\n",
       "        </tr>\n",
       "    </tbody>\n",
       "        <tr>\n",
       "            <td>41  </td> <td>Stephen M. Smith       </td> <td>Equinix (Redwood City)                         </td> <td>$11.11   </td> <td>-3      </td> <td>$2.04   </td> <td>$9.06     </td> <td>$0.01    </td> <td>102                                            </td> <td>11.11        </td> <td>0.97         </td> <td>11.4536           </td>\n",
       "        </tr>\n",
       "    </tbody>\n",
       "        <tr>\n",
       "            <td>42  </td> <td>Sanjay Mehrotra**      </td> <td>SanDisk (Milpitas)                             </td> <td>$10.73   </td> <td>-7      </td> <td>$1.55   </td> <td>$9.00     </td> <td>$0.17    </td> <td>78                                             </td> <td>10.73        </td> <td>0.93         </td> <td>11.5376           </td>\n",
       "        </tr>\n",
       "    </tbody>\n",
       "        <tr>\n",
       "            <td>43  </td> <td>Ronald L. Havner, Jr.  </td> <td>Public Storage (Glendale)                      </td> <td>$10.50   </td> <td>17      </td> <td>$3.50   </td> <td>$6.99     </td> <td>$0.01    </td> <td>256                                            </td> <td>10.50        </td> <td>1.17         </td> <td>8.97436           </td>\n",
       "        </tr>\n",
       "    </tbody>\n",
       "        <tr>\n",
       "            <td>44  </td> <td>Rodney C. Sacks        </td> <td>Monster Beverage (Corona)                      </td> <td>$10.43   </td> <td>36      </td> <td>$1.13   </td> <td>$9.23     </td> <td>$0.08    </td> <td>190                                            </td> <td>10.43        </td> <td>1.36         </td> <td>7.66912           </td>\n",
       "        </tr>\n",
       "    </tbody>\n",
       "        <tr>\n",
       "            <td>46  </td> <td>Tim Cook               </td> <td>Apple (Cupertino)                              </td> <td>$10.28   </td> <td>11      </td> <td>$10.00  </td> <td>$0.00     </td> <td>$0.28    </td> <td>54                                             </td> <td>10.28        </td> <td>1.11         </td> <td>9.26126           </td>\n",
       "        </tr>\n",
       "    </tbody>\n",
       "        <tr>\n",
       "            <td>47  </td> <td>J. Mario Molina        </td> <td>Molina Healthcare (Long Beach)                 </td> <td>$10.27   </td> <td>31      </td> <td>$2.36   </td> <td>$7.89     </td> <td>$0.02    </td> <td>124                                            </td> <td>10.27        </td> <td>1.31         </td> <td>7.83969           </td>\n",
       "        </tr>\n",
       "    </tbody>\n",
       "        <tr>\n",
       "            <td>48  </td> <td>Jure Sola              </td> <td>Sanmina (San Jose)                             </td> <td>$10.18   </td> <td>22      </td> <td>$2.32   </td> <td>$7.81     </td> <td>$0.06    </td> <td>144                                            </td> <td>10.18        </td> <td>1.22         </td> <td>8.34426           </td>\n",
       "        </tr>\n",
       "    </tbody>\n",
       "        <tr>\n",
       "            <td>50  </td> <td>Jen-Hsun Huang         </td> <td>NVIDIA (Santa Clara)                           </td> <td>$9.97    </td> <td>7       </td> <td>$2.51   </td> <td>$7.46     </td> <td>$0.00    </td> <td>72                                             </td> <td>9.97         </td> <td>1.07         </td> <td>9.31776           </td>\n",
       "        </tr>\n",
       "    </tbody>\n",
       "        <tr>\n",
       "            <td>51  </td> <td>Michael Rapino         </td> <td>Live Nation Entertainment (Beverly Hills)      </td> <td>$9.96    </td> <td>-10     </td> <td>$7.36   </td> <td>$2.52     </td> <td>$0.08    </td> <td>280                                            </td> <td>9.96         </td> <td>0.9          </td> <td>11.0667           </td>\n",
       "        </tr>\n",
       "    </tbody>\n",
       "        <tr>\n",
       "            <td>52  </td> <td>Harold M. Messmer      </td> <td>Robert Half International  (Menlo Park)        </td> <td>$9.86    </td> <td>8       </td> <td>$3.65   </td> <td>$6.21     </td> <td>$0.00    </td> <td>324                                            </td> <td>9.86         </td> <td>1.08         </td> <td>9.12963           </td>\n",
       "        </tr>\n",
       "    </tbody>\n",
       "        <tr>\n",
       "            <td>55  </td> <td>Thomas Georgens**      </td> <td>NetApp (Sunnyvale)                             </td> <td>$9.39    </td> <td>9       </td> <td>$1.93   </td> <td>$7.45     </td> <td>$0.01    </td> <td>68                                             </td> <td>9.39         </td> <td>1.09         </td> <td>8.61468           </td>\n",
       "        </tr>\n",
       "    </tbody>\n",
       "        <tr>\n",
       "            <td>56  </td> <td>Jay T. Flatley**       </td> <td>Illumina (San Diego)                           </td> <td>$9.22    </td> <td>-38     </td> <td>$2.15   </td> <td>$7.00     </td> <td>$0.06    </td> <td>70                                             </td> <td>9.22         </td> <td>0.62         </td> <td>14.871            </td>\n",
       "        </tr>\n",
       "    </tbody>\n",
       "        <tr>\n",
       "            <td>57  </td> <td>Michael A. Mussallem   </td> <td>Edwards Lifesciences (Irvine)                  </td> <td>$9.06    </td> <td>5       </td> <td>$3.05   </td> <td>$5.84     </td> <td>$0.18    </td> <td>119                                            </td> <td>9.06         </td> <td>1.05         </td> <td>8.62857           </td>\n",
       "        </tr>\n",
       "    </tbody>\n",
       "        <tr>\n",
       "            <td>58  </td> <td>Alain Monie            </td> <td>Ingram Micro (Irvine)                          </td> <td>$9.03    </td> <td>8       </td> <td>$3.50   </td> <td>$5.50     </td> <td>$0.03    </td> <td>72                                             </td> <td>9.03         </td> <td>1.08         </td> <td>8.36111           </td>\n",
       "        </tr>\n",
       "    </tbody>\n",
       "        <tr>\n",
       "            <td>59  </td> <td>Jeffrey T. Mezger      </td> <td>KB Home (Los Angeles)                          </td> <td>$8.86    </td> <td>-14     </td> <td>$4.97   </td> <td>$3.81     </td> <td>$0.07    </td> <td>165                                            </td> <td>8.86         </td> <td>0.86         </td> <td>10.3023           </td>\n",
       "        </tr>\n",
       "    </tbody>\n",
       "        <tr>\n",
       "            <td>60  </td> <td>Steven W. Berglund     </td> <td>Trimble Navigation  (Sunnyvale)                </td> <td>$8.76    </td> <td>24      </td> <td>$1.03   </td> <td>$7.72     </td> <td>$0.00    </td> <td>109                                            </td> <td>8.76         </td> <td>1.24         </td> <td>7.06452           </td>\n",
       "        </tr>\n",
       "    </tbody>\n",
       "        <tr>\n",
       "            <td>61  </td> <td>Dean A. Scarborough**  </td> <td>Avery Dennison (Glendale)                      </td> <td>$8.57    </td> <td>-29     </td> <td>$3.02   </td> <td>$5.24     </td> <td>$0.30    </td> <td>115                                            </td> <td>8.57         </td> <td>0.71         </td> <td>12.0704           </td>\n",
       "        </tr>\n",
       "    </tbody>\n",
       "        <tr>\n",
       "            <td>62  </td> <td>Richard P. Wallace     </td> <td>KLA-Tencor (Milpitas)                          </td> <td>$8.38    </td> <td>22      </td> <td>$2.05   </td> <td>$6.30     </td> <td>$0.03    </td> <td>114                                            </td> <td>8.38         </td> <td>1.22         </td> <td>6.86885           </td>\n",
       "        </tr>\n",
       "    </tbody>\n",
       "        <tr>\n",
       "            <td>64  </td> <td>Lloyd A. Carney        </td> <td>Brocade Communications Systems (San Jose)      </td> <td>$8.35    </td> <td>-17     </td> <td>$1.98   </td> <td>$6.37     </td> <td>$0.00    </td> <td>61                                             </td> <td>8.35         </td> <td>0.83         </td> <td>10.0602           </td>\n",
       "        </tr>\n",
       "    </tbody>\n",
       "        <tr>\n",
       "            <td>65  </td> <td>Robert L. Antin        </td> <td>VCA (Los Angeles)                              </td> <td>$8.23    </td> <td>19      </td> <td>$3.57   </td> <td>$4.30     </td> <td>$0.37    </td> <td>226                                            </td> <td>8.23         </td> <td>1.19         </td> <td>6.91597           </td>\n",
       "        </tr>\n",
       "    </tbody>\n",
       "        <tr>\n",
       "            <td>67  </td> <td>Robert E. Sulentic     </td> <td>CBRE Group (Los Angeles)                       </td> <td>$7.70    </td> <td>21      </td> <td>$3.57   </td> <td>$4.12     </td> <td>$0.00    </td> <td>135                                            </td> <td>7.70         </td> <td>1.21         </td> <td>6.36364           </td>\n",
       "        </tr>\n",
       "    </tbody>\n",
       "        <tr>\n",
       "            <td>68  </td> <td>Peter T. Dameris       </td> <td>On Assignment  (Calabasas)                     </td> <td>$7.58    </td> <td>36      </td> <td>$2.47   </td> <td>$5.10     </td> <td>$0.01    </td> <td>250                                            </td> <td>7.58         </td> <td>1.36         </td> <td>5.57353           </td>\n",
       "        </tr>\n",
       "    </tbody>\n",
       "        <tr>\n",
       "            <td>69  </td> <td>Dow R. Wilson          </td> <td>Varian Medical Systems (Palo Alto)             </td> <td>$7.51    </td> <td>16      </td> <td>$1.86   </td> <td>$5.50     </td> <td>$0.15    </td> <td>72                                             </td> <td>7.51         </td> <td>1.16         </td> <td>6.47414           </td>\n",
       "        </tr>\n",
       "    </tbody>\n",
       "        <tr>\n",
       "            <td>70  </td> <td>Robert A. Kotick       </td> <td>Activision Blizzard (Santa Monica)             </td> <td>$7.23    </td> <td>5       </td> <td>$7.14   </td> <td>$0.00     </td> <td>$0.09    </td> <td>49                                             </td> <td>7.23         </td> <td>1.05         </td> <td>6.88571           </td>\n",
       "        </tr>\n",
       "    </tbody>\n",
       "        <tr>\n",
       "            <td>72  </td> <td>Robert Y. Greenberg    </td> <td>Skechers U.S.A. (Manhattan Beach)              </td> <td>$7.12    </td> <td>-25     </td> <td>$6.85   </td> <td>$0.00     </td> <td>$0.27    </td> <td>182                                            </td> <td>7.12         </td> <td>0.75         </td> <td>9.49333           </td>\n",
       "        </tr>\n",
       "    </tbody>\n",
       "        <tr>\n",
       "            <td>73  </td> <td>Lauralee E. Martin     </td> <td>HCP (Irvine)                                   </td> <td>$6.88    </td> <td>-45     </td> <td>$2.19   </td> <td>$4.68     </td> <td>$0.01    </td> <td>152                                            </td> <td>6.88         </td> <td>0.55         </td> <td>12.5091           </td>\n",
       "        </tr>\n",
       "    </tbody>\n",
       "        <tr>\n",
       "            <td>74  </td> <td>Jon Feltheimer         </td> <td>Lions Gate Entertainment (Santa Monica)        </td> <td>$6.77    </td> <td>-90     </td> <td>$5.55   </td> <td>$1.00     </td> <td>$0.22    </td> <td>46                                             </td> <td>6.77         </td> <td>0.1          </td> <td>67.7              </td>\n",
       "        </tr>\n",
       "    </tbody>\n",
       "        <tr>\n",
       "            <td>78  </td> <td>David Overton          </td> <td>Cheesecake Factory  (Calabasas Hills)          </td> <td>$5.92    </td> <td>10      </td> <td>$2.20   </td> <td>$3.59     </td> <td>$0.13    </td> <td>303                                            </td> <td>5.92         </td> <td>1.1          </td> <td>5.38182           </td>\n",
       "        </tr>\n",
       "    </tbody>\n",
       "        <tr>\n",
       "            <td>79  </td> <td>Moshe N. Gavrielov     </td> <td>Xilinx (San Jose)                              </td> <td>$5.90    </td> <td>-9      </td> <td>$1.61   </td> <td>$4.29     </td> <td>$0.00    </td> <td>43                                             </td> <td>5.90         </td> <td>0.91         </td> <td>6.48352           </td>\n",
       "        </tr>\n",
       "    </tbody>\n",
       "        <tr>\n",
       "            <td>80  </td> <td>Tunc Doluca            </td> <td>Maxim Integrated Products (San Jose)           </td> <td>$5.89    </td> <td>57      </td> <td>$1.59   </td> <td>$4.29     </td> <td>$0.02    </td> <td>43                                             </td> <td>5.89         </td> <td>1.57         </td> <td>3.75159           </td>\n",
       "        </tr>\n",
       "    </tbody>\n",
       "        <tr>\n",
       "            <td>81  </td> <td>Dennis J. Gilmore      </td> <td>First American Financial (Santa Ana)           </td> <td>$5.73    </td> <td>2       </td> <td>$3.16   </td> <td>$2.56     </td> <td>$0.01    </td> <td>68                                             </td> <td>5.73         </td> <td>1.02         </td> <td>5.61765           </td>\n",
       "        </tr>\n",
       "    </tbody>\n",
       "        <tr>\n",
       "            <td>82  </td> <td>Dan L. Batrack         </td> <td>Tetra Tech (Pasadena)                          </td> <td>$5.42    </td> <td>20      </td> <td>$1.95   </td> <td>$3.43     </td> <td>$0.04    </td> <td>58                                             </td> <td>5.42         </td> <td>1.2          </td> <td>4.51667           </td>\n",
       "        </tr>\n",
       "    </tbody>\n",
       "        <tr>\n",
       "            <td>83  </td> <td>Mark E. Zuckerberg     </td> <td>Facebook (Menlo Park)                          </td> <td>$5.04    </td> <td>-19     </td> <td>$0.00   </td> <td>$0.00     </td> <td>$5.04    </td> <td>46                                             </td> <td>5.04         </td> <td>0.81         </td> <td>6.22222           </td>\n",
       "        </tr>\n",
       "    </tbody>\n",
       "        <tr>\n",
       "            <td>84  </td> <td>Aart J. de Geus*       </td> <td>Synopsys (Mountain View)                       </td> <td>$4.92    </td> <td>10      </td> <td>$2.32   </td> <td>$2.57     </td> <td>$0.03    </td> <td>54                                             </td> <td>4.92         </td> <td>1.1          </td> <td>4.47273           </td>\n",
       "        </tr>\n",
       "    </tbody>\n",
       "        <tr>\n",
       "            <td>85  </td> <td>Chi-Foon Chan*         </td> <td>Synopsys (Mountain View)                       </td> <td>$4.92    </td> <td>9       </td> <td>$2.32   </td> <td>$2.57     </td> <td>$0.03    </td> <td>54                                             </td> <td>4.92         </td> <td>1.09         </td> <td>4.51376           </td>\n",
       "        </tr>\n",
       "    </tbody>\n",
       "        <tr>\n",
       "            <td>86  </td> <td>Douglas F. Bauer       </td> <td>TRI Pointe Group (Irvine)                      </td> <td>$4.47    </td> <td>114     </td> <td>$1.33   </td> <td>$3.12     </td> <td>$0.02    </td> <td>83                                             </td> <td>4.47         </td> <td>2.14         </td> <td>2.08879           </td>\n",
       "        </tr>\n",
       "    </tbody>\n",
       "        <tr>\n",
       "            <td>87  </td> <td>Burton M. Goldfield    </td> <td>TriNet Group (San Leandro)                     </td> <td>$4.25    </td> <td>76      </td> <td>$0.69   </td> <td>$3.50     </td> <td>$0.06    </td> <td>49                                             </td> <td>4.25         </td> <td>1.76         </td> <td>2.41477           </td>\n",
       "        </tr>\n",
       "    </tbody>\n",
       "        <tr>\n",
       "            <td>88  </td> <td>Robert Mehrabian       </td> <td>Teledyne Technologies  (Thousand Oaks)         </td> <td>$4.08    </td> <td>-52     </td> <td>$1.98   </td> <td>$1.63     </td> <td>$0.46    </td> <td>37                                             </td> <td>4.08         </td> <td>0.48         </td> <td>8.5               </td>\n",
       "        </tr>\n",
       "    </tbody>\n",
       "        <tr>\n",
       "            <td>89  </td> <td>Kevin M. Murai         </td> <td>SYNNEX (Fremont)                               </td> <td>$3.93    </td> <td>-48     </td> <td>$1.84   </td> <td>$2.07     </td> <td>$0.01    </td> <td>31                                             </td> <td>3.93         </td> <td>0.52         </td> <td>7.55769           </td>\n",
       "        </tr>\n",
       "    </tbody>\n",
       "        <tr>\n",
       "            <td>90  </td> <td>Gary S. Guthart        </td> <td>Intuitive Surgical (Sunnyvale)                 </td> <td>$3.72    </td> <td>42      </td> <td>$1.21   </td> <td>$2.52     </td> <td>$0.00    </td> <td>49                                             </td> <td>3.72         </td> <td>1.42         </td> <td>2.61972           </td>\n",
       "        </tr>\n",
       "    </tbody>\n",
       "        <tr>\n",
       "            <td>92  </td> <td>James H. Roberts       </td> <td>Granite Construction (Watsonville)             </td> <td>$2.83    </td> <td>22      </td> <td>$1.73   </td> <td>$0.98     </td> <td>$0.12    </td> <td>40                                             </td> <td>2.83         </td> <td>1.22         </td> <td>2.31967           </td>\n",
       "        </tr>\n",
       "    </tbody>\n",
       "        <tr>\n",
       "            <td>93  </td> <td>Thomas T. Edman        </td> <td>TTM Technologies (Costa Mesa)                  </td> <td>$2.82    </td> <td>87      </td> <td>$1.89   </td> <td>$0.92     </td> <td>$0.01    </td> <td>43                                             </td> <td>2.82         </td> <td>1.87         </td> <td>1.50802           </td>\n",
       "        </tr>\n",
       "    </tbody>\n",
       "        <tr>\n",
       "            <td>94  </td> <td>Gabriel Tirador        </td> <td>Mercury General (Los Angeles)                  </td> <td>$2.45    </td> <td>-4      </td> <td>$1.85   </td> <td>$0.54     </td> <td>$0.06    </td> <td>28                                             </td> <td>2.45         </td> <td>0.96         </td> <td>2.55208           </td>\n",
       "        </tr>\n",
       "    </tbody>\n",
       "        <tr>\n",
       "            <td>95  </td> <td>Thomas B. Perkins      </td> <td>Core-Mark Holding Company (South San Francisco)</td> <td>$1.79    </td> <td>9       </td> <td>$0.91   </td> <td>$0.87     </td> <td>$0.01    </td> <td>31                                             </td> <td>1.79         </td> <td>1.09         </td> <td>1.6422            </td>\n",
       "        </tr>\n",
       "    </tbody>\n",
       "        <tr>\n",
       "            <td>96  </td> <td>Gary G. Friedman       </td> <td>Restoration Hardware Holdings (Corte Madera)   </td> <td>$1.68    </td> <td>-35     </td> <td>$1.66   </td> <td>$0.00     </td> <td>$0.02    </td> <td>28                                             </td> <td>1.68         </td> <td>0.65         </td> <td>2.58462           </td>\n",
       "        </tr>\n",
       "    </tbody>\n",
       "        <tr>\n",
       "            <td>97  </td> <td>David G. Hirz          </td> <td>Smartæ& Final Stores (Commerce)                </td> <td>$1.53    </td> <td>-66     </td> <td>$1.50   </td> <td>$0.00     </td> <td>$0.04    </td> <td>26                                             </td> <td>1.53         </td> <td>0.34         </td> <td>4.5               </td>\n",
       "        </tr>\n",
       "    </tbody>\n",
       "        <tr>\n",
       "            <td>98  </td> <td>Gregory N. Roberts     </td> <td>A-Mark Precious Metals (Santa Monica)          </td> <td>$0.94    </td> <td>-11     </td> <td>$0.93   </td> <td>$0.00     </td> <td>$0.02    </td> <td>17                                             </td> <td>0.94         </td> <td>0.89         </td> <td>1.05618           </td>\n",
       "        </tr>\n",
       "    </tbody>\n",
       "        <tr>\n",
       "            <td>99  </td> <td>Jose L. Laparte        </td> <td>PriceSmart (San Diego)                         </td> <td>$0.81    </td> <td>-7      </td> <td>$0.71   </td> <td>$0.00     </td> <td>$0.10    </td> <td>32                                             </td> <td>0.81         </td> <td>0.93         </td> <td>0.870968          </td>\n",
       "        </tr>\n",
       "    </tbody>\n",
       "        <tr>\n",
       "            <td>101 </td> <td>Elon R. Musk           </td> <td>Tesla Motors (Palo Alto)                       </td> <td>$0.04    </td> <td>6       </td> <td>$0.04   </td> <td>$0.00     </td> <td>$0.00    </td> <td>0.46                                           </td> <td>0.04         </td> <td>1.06         </td> <td>0.0377358         </td>\n",
       "        </tr>\n",
       "    </tbody>\n",
       "        <tr>\n",
       "            <td>102 </td> <td>Lawrence Page***       </td> <td>Alphabet (Mountain View)                       </td> <td>$0.00    </td> <td>0       </td> <td>$0.00   </td> <td>$0.00     </td> <td>$0.00    </td> <td>1e-05                                          </td> <td>0.00         </td> <td>1            </td> <td>0                 </td>\n",
       "        </tr>\n",
       "    </tbody>\n",
       "</table>"
      ],
      "text/plain": [
       "<IPython.core.display.HTML object>"
      ]
     },
     "metadata": {},
     "output_type": "display_data"
    }
   ],
   "source": [
    "# For reference, our solution involved more than just this one line of code\n",
    "def convert_percent_to_num(percent):\n",
    "    return int(percent.strip(\"%\"))\n",
    "\n",
    "with_previous_compensation = compensation.where(\"% Change\", are.not_equal_to(\"(No previous year)\"))\n",
    "with_previous_compensation = with_previous_compensation.with_columns(\"% Change\", \n",
    "                                 with_previous_compensation.apply(convert_percent_to_num, \"% Change\"))\n",
    "with_previous_compensation = with_previous_compensation.with_columns(\"Change Factor\", \n",
    "                                (with_previous_compensation.column(\"% Change\") + 100)/100)\n",
    "\n",
    "with_previous_compensation = with_previous_compensation.with_columns(\"2014 Total Pay ($)\",\n",
    "                                                                    with_previous_compensation.column(\"Total Pay ($)\") / \n",
    "                                                                    with_previous_compensation.column(\"Change Factor\"))\n",
    "\n",
    "with_previous_compensation.show()\n"
   ]
  },
  {
   "cell_type": "code",
   "execution_count": null,
   "metadata": {
    "collapsed": false,
    "deletable": true,
    "editable": true
   },
   "outputs": [],
   "source": [
    "_ = tests.grade('q3_5')"
   ]
  },
  {
   "cell_type": "markdown",
   "metadata": {
    "deletable": true,
    "editable": true
   },
   "source": [
    "**Question 6.** What was the average pay of these CEOs in 2014?  Does it make sense to compare this number to the number you computed in question 3?"
   ]
  },
  {
   "cell_type": "code",
   "execution_count": 50,
   "metadata": {
    "collapsed": false,
    "deletable": true,
    "editable": true
   },
   "outputs": [
    {
     "data": {
      "text/plain": [
       "11.649176115603435"
      ]
     },
     "execution_count": 50,
     "metadata": {},
     "output_type": "execute_result"
    }
   ],
   "source": [
    "average_pay_2014 = with_previous_compensation.column(\"2014 Total Pay ($)\").mean()\n",
    "average_pay_2014"
   ]
  },
  {
   "cell_type": "code",
   "execution_count": null,
   "metadata": {
    "collapsed": false,
    "deletable": true,
    "editable": true
   },
   "outputs": [],
   "source": [
    "_ = tests.grade('q3_6')"
   ]
  },
  {
   "cell_type": "markdown",
   "metadata": {
    "deletable": true,
    "editable": true
   },
   "source": [
    "**Question 7.** A skeptical student asks:\n",
    "\n",
    "> \"I already knew lots of ways to operate on each element of an array at once.  For example, I can multiply each element of `some_array` by 100 by writing `100*some_array`.  What good is `apply`?\n",
    "\n",
    "How would you answer?  Discuss with a neighbor."
   ]
  },
  {
   "cell_type": "markdown",
   "metadata": {
    "deletable": true,
    "editable": true
   },
   "source": [
    "## 4. Histograms\n",
    "Earlier, we computed the average pay among the CEOs in our 102-CEO dataset.  The average doesn't tell us everything about the amounts CEOs are paid, though.  Maybe just a few CEOs make the bulk of the money, even among these 102.\n",
    "\n",
    "We can use a *histogram* to display more information about a set of numbers.  The table method `hist` takes a single argument, the name of a column of numbers.  It produces a histogram of the numbers in that column.\n",
    "\n",
    "**Question 1.** Make a histogram of the pay of the CEOs in `compensation`."
   ]
  },
  {
   "cell_type": "code",
   "execution_count": 52,
   "metadata": {
    "collapsed": false,
    "deletable": true,
    "editable": true
   },
   "outputs": [
    {
     "data": {
      "image/png": "[encoded data removed]",
      "text/plain": [
       "<matplotlib.figure.Figure at 0x7f0378a19c18>"
      ]
     },
     "metadata": {},
     "output_type": "display_data"
    }
   ],
   "source": [
    "compensation.hist(\"Total Pay ($)\")"
   ]
  },
  {
   "cell_type": "markdown",
   "metadata": {
    "deletable": true,
    "editable": true
   },
   "source": [
    "**Question 2.** Looking at the histogram, how many CEOs made more than \\$30 million?  (Answer the question by filling in your answer manually.  You'll have to do a bit of arithmetic; feel free to use Python as a calculator.)"
   ]
  },
  {
   "cell_type": "code",
   "execution_count": 53,
   "metadata": {
    "collapsed": true,
    "deletable": true,
    "editable": true
   },
   "outputs": [],
   "source": [
    "num_ceos_more_than_30_million = compensation.bin()"
   ]
  },
  {
   "cell_type": "markdown",
   "metadata": {
    "deletable": true,
    "editable": true
   },
   "source": [
    "**Question 3.** Answer the same question with code.  *Hint:* Use the table method `where` and the property `num_rows`."
   ]
  },
  {
   "cell_type": "code",
   "execution_count": 55,
   "metadata": {
    "collapsed": false,
    "deletable": true,
    "editable": true
   },
   "outputs": [
    {
     "data": {
      "text/plain": [
       "5"
      ]
     },
     "execution_count": 55,
     "metadata": {},
     "output_type": "execute_result"
    }
   ],
   "source": [
    "num_ceos_more_than_30_million_2 = compensation.where(\"Total Pay ($)\", are.above(30))\n",
    "num_ceos_more_than_30_million_2.num_rows"
   ]
  },
  {
   "cell_type": "code",
   "execution_count": null,
   "metadata": {
    "collapsed": false,
    "deletable": true,
    "editable": true
   },
   "outputs": [],
   "source": [
    "_ = tests.grade('q4_3')"
   ]
  },
  {
   "cell_type": "markdown",
   "metadata": {
    "deletable": true,
    "editable": true
   },
   "source": [
    "**Question 4.** Do most CEOs make around the same amount, or are there some who make a lot more than the rest?  Discuss with someone near you."
   ]
  },
  {
   "cell_type": "code",
   "execution_count": null,
   "metadata": {
    "collapsed": false,
    "deletable": true,
    "editable": true
   },
   "outputs": [],
   "source": [
    "# For your convenience, you can run this cell to run all the tests at once!\n",
    "import os\n",
    "_ = [tests.grade(q[:-3]) for q in os.listdir(\"tests\") if q.startswith('q')]"
   ]
  },
  {
   "cell_type": "code",
   "execution_count": null,
   "metadata": {
    "collapsed": false,
    "deletable": true,
    "editable": true
   },
   "outputs": [],
   "source": [
    "# Run this cell to submit your work *after* you have passed all of the test cells.\n",
    "# It's ok to run this cell multiple times. Only your final submission will be scored.\n",
    "\n",
    "!TZ=America/Los_Angeles ipython nbconvert --output=\".lab04_$(date +%m%d_%H%M)_submission.html\" lab04.ipynb"
   ]
  }
 ],
 "metadata": {
  "anaconda-cloud": {},
  "kernelspec": {
   "display_name": "Python 3",
   "language": "python",
   "name": "python3"
  },
  "language_info": {
   "codemirror_mode": {
    "name": "ipython",
    "version": 3
   },
   "file_extension": ".py",
   "mimetype": "text/x-python",
   "name": "python",
   "nbconvert_exporter": "python",
   "pygments_lexer": "ipython3",
   "version": "3.5.2"
  }
 },
 "nbformat": 4,
 "nbformat_minor": 0
}
